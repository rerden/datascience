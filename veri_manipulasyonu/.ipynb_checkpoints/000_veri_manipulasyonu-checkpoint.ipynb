{
 "cells": [
  {
   "cell_type": "code",
   "execution_count": 1,
   "id": "ec2ae73e-f561-41b9-9ddf-97d37cb1aec5",
   "metadata": {},
   "outputs": [
    {
     "name": "stdout",
     "output_type": "stream",
     "text": [
      "a\n"
     ]
    }
   ],
   "source": [
    "print(\"a\")"
   ]
  },
  {
   "cell_type": "markdown",
   "id": "de835983-af13-4c17-bf3b-0dff83c2cd00",
   "metadata": {},
   "source": [
    "merhaba \n",
    "açıklama eklenip, başka ifadelerde eklenebilir\n",
    "\n",
    "__italik__\n",
    "\n",
    "**kalın**"
   ]
  },
  {
   "cell_type": "markdown",
   "id": "fc303eec-5b6b-4535-b390-7e42ba61d09d",
   "metadata": {},
   "source": [
    "# En Büyük Başlık\n",
    "## Merhaba\n",
    "### Merhaba"
   ]
  },
  {
   "cell_type": "markdown",
   "id": "e3d12079-5f39-4ff3-970b-5a4c9d2bd125",
   "metadata": {},
   "source": [
    "# Neden NumPy ?"
   ]
  },
  {
   "cell_type": "code",
   "execution_count": 7,
   "id": "f54f6f0a-7cfb-4b30-b659-ac1cf1bd6bf9",
   "metadata": {},
   "outputs": [],
   "source": [
    "a = [1,2,3,4]\n",
    "b = [2,3,4,5]\n"
   ]
  },
  {
   "cell_type": "code",
   "execution_count": 8,
   "id": "5db96748-15b9-478e-bd8e-7d269a5d188a",
   "metadata": {},
   "outputs": [
    {
     "data": {
      "text/plain": [
       "[2, 6, 12, 20]"
      ]
     },
     "execution_count": 8,
     "metadata": {},
     "output_type": "execute_result"
    }
   ],
   "source": [
    "ab = []\n",
    "\n",
    "for i in range(0, len(a)):\n",
    "    ab.append(a[i]*b[i])\n",
    "ab    "
   ]
  },
  {
   "cell_type": "code",
   "execution_count": 9,
   "id": "e9c209f5-8665-4229-b9f4-a9965016471c",
   "metadata": {},
   "outputs": [],
   "source": [
    "import numpy as np     # numpy isleri kolaylastirir"
   ]
  },
  {
   "cell_type": "code",
   "execution_count": 12,
   "id": "b67f8556-f2c1-44db-975f-210c020a629a",
   "metadata": {},
   "outputs": [],
   "source": [
    "a = np.array([1,2,3,4]) # numpy arrayler kullanilarak isler kolaylastirilir\n",
    "b = np.array([2,3,4,5])"
   ]
  },
  {
   "cell_type": "code",
   "execution_count": 11,
   "id": "9e1aa5a7-88ad-4eaa-bc9a-d31ad8193717",
   "metadata": {},
   "outputs": [
    {
     "data": {
      "text/plain": [
       "array([ 2,  6, 12, 20])"
      ]
     },
     "execution_count": 11,
     "metadata": {},
     "output_type": "execute_result"
    }
   ],
   "source": [
    "a * b"
   ]
  },
  {
   "cell_type": "markdown",
   "id": "2b209450-357f-4979-b1ac-bb8c163df0fa",
   "metadata": {},
   "source": [
    "# NumPy Array'i olusturmak"
   ]
  },
  {
   "cell_type": "code",
   "execution_count": 17,
   "id": "f5862cc5-a6e5-4169-a6d6-eaf1ae079d35",
   "metadata": {},
   "outputs": [],
   "source": [
    "import numpy as np          # numpy kutuphane import edilir, kisayol olarak as ile np tanimlanir"
   ]
  },
  {
   "cell_type": "code",
   "execution_count": 18,
   "id": "9b635642-b0f0-4a8f-840e-cc9ed8fe4622",
   "metadata": {},
   "outputs": [
    {
     "data": {
      "text/plain": [
       "array([1, 2, 3, 4, 5])"
      ]
     },
     "execution_count": 18,
     "metadata": {},
     "output_type": "execute_result"
    }
   ],
   "source": [
    "np.array([1,2,3,4,5])"
   ]
  },
  {
   "cell_type": "code",
   "execution_count": 23,
   "id": "96472c6b-2f7b-4523-97c1-623268527984",
   "metadata": {},
   "outputs": [],
   "source": [
    "a = np.array([1,2,3,4,5])"
   ]
  },
  {
   "cell_type": "code",
   "execution_count": 24,
   "id": "4b8f0e8b-27fd-4403-854a-0bb449102e96",
   "metadata": {},
   "outputs": [
    {
     "data": {
      "text/plain": [
       "numpy.ndarray"
      ]
     },
     "execution_count": 24,
     "metadata": {},
     "output_type": "execute_result"
    }
   ],
   "source": [
    "type(a) "
   ]
  },
  {
   "cell_type": "code",
   "execution_count": 26,
   "id": "b56211b1-ecec-4e83-9563-f90337e8f934",
   "metadata": {},
   "outputs": [
    {
     "data": {
      "text/plain": [
       "array([ 3,  4,  2, 13])"
      ]
     },
     "execution_count": 26,
     "metadata": {},
     "output_type": "execute_result"
    }
   ],
   "source": [
    "np.array([3.14, 4, 2, 13], dtype=\"int\") # dtype=\" \" ile istenilen veri formatinda tanimlama yapilabilr dtype=\"int\", dtype=\"string\""
   ]
  },
  {
   "cell_type": "code",
   "execution_count": 27,
   "id": "9b8aa69e-c9d9-4f9f-8b43-859cc69a0013",
   "metadata": {},
   "outputs": [
    {
     "data": {
      "text/plain": [
       "array([ 3.14,  4.  ,  2.  , 13.  ])"
      ]
     },
     "execution_count": 27,
     "metadata": {},
     "output_type": "execute_result"
    }
   ],
   "source": [
    "np.array([3.14, 4, 2, 13], dtype=\"float\")"
   ]
  },
  {
   "cell_type": "code",
   "execution_count": 29,
   "id": "fc2ff685-9707-491f-a4b9-e99c59580b35",
   "metadata": {},
   "outputs": [
    {
     "data": {
      "text/plain": [
       "array(['3.14', '4', '2', '13'], dtype='<U4')"
      ]
     },
     "execution_count": 29,
     "metadata": {},
     "output_type": "execute_result"
    }
   ],
   "source": [
    "np.array([3.14, 4, 2, 13], dtype=\"str\")"
   ]
  },
  {
   "cell_type": "code",
   "execution_count": 30,
   "id": "be632800-ad12-4620-af6e-cc704543d50c",
   "metadata": {},
   "outputs": [],
   "source": [
    "#Sifirdan array olusturma"
   ]
  },
  {
   "cell_type": "code",
   "execution_count": 31,
   "id": "e5bc4b7c-9aea-4950-9e0d-57245e950ef2",
   "metadata": {},
   "outputs": [
    {
     "data": {
      "text/plain": [
       "array([0, 0, 0, 0, 0, 0, 0, 0, 0, 0])"
      ]
     },
     "execution_count": 31,
     "metadata": {},
     "output_type": "execute_result"
    }
   ],
   "source": [
    "np.zeros(10, dtype=int)"
   ]
  },
  {
   "cell_type": "code",
   "execution_count": 33,
   "id": "600069bd-705a-4eae-8a87-20768d658cc5",
   "metadata": {},
   "outputs": [
    {
     "data": {
      "text/plain": [
       "array([[1., 1., 1., 1., 1.],\n",
       "       [1., 1., 1., 1., 1.],\n",
       "       [1., 1., 1., 1., 1.]])"
      ]
     },
     "execution_count": 33,
     "metadata": {},
     "output_type": "execute_result"
    }
   ],
   "source": [
    "np.ones((3,5))"
   ]
  },
  {
   "cell_type": "code",
   "execution_count": 35,
   "id": "b804b607-a438-48ad-a580-ab3dd0dfd081",
   "metadata": {},
   "outputs": [
    {
     "data": {
      "text/plain": [
       "array([[1, 1, 1, 1, 1],\n",
       "       [1, 1, 1, 1, 1],\n",
       "       [1, 1, 1, 1, 1]])"
      ]
     },
     "execution_count": 35,
     "metadata": {},
     "output_type": "execute_result"
    }
   ],
   "source": [
    "np.ones((3,5), dtype = int)  # 3 satir ve 5 sutunluk int degerleriyle olusturulan matris "
   ]
  },
  {
   "cell_type": "code",
   "execution_count": 36,
   "id": "edc5f015-728a-4462-8323-5eb2e04fe4ae",
   "metadata": {},
   "outputs": [
    {
     "data": {
      "text/plain": [
       "array([[3, 3, 3, 3, 3],\n",
       "       [3, 3, 3, 3, 3],\n",
       "       [3, 3, 3, 3, 3]])"
      ]
     },
     "execution_count": 36,
     "metadata": {},
     "output_type": "execute_result"
    }
   ],
   "source": [
    "np.full((3,5), 3)  # 3 lerden olusan bir matris"
   ]
  },
  {
   "cell_type": "code",
   "execution_count": 39,
   "id": "3255e12f-d4c0-491d-99c8-722315faf75f",
   "metadata": {},
   "outputs": [
    {
     "data": {
      "text/plain": [
       "array([ 0,  3,  6,  9, 12, 15, 18, 21, 24, 27, 30])"
      ]
     },
     "execution_count": 39,
     "metadata": {},
     "output_type": "execute_result"
    }
   ],
   "source": [
    "np.arange(0, 31, 3)  # tek bayutlu-satirli(vektor) matris 3 er artis ile matris olusturulur"
   ]
  },
  {
   "cell_type": "code",
   "execution_count": 40,
   "id": "4f1847b8-b5dd-4f3f-83b4-16e2ef74c5c6",
   "metadata": {},
   "outputs": [
    {
     "data": {
      "text/plain": [
       "array([0.        , 0.11111111, 0.22222222, 0.33333333, 0.44444444,\n",
       "       0.55555556, 0.66666667, 0.77777778, 0.88888889, 1.        ])"
      ]
     },
     "execution_count": 40,
     "metadata": {},
     "output_type": "execute_result"
    }
   ],
   "source": [
    "np.linspace(0,1,10)"
   ]
  },
  {
   "cell_type": "code",
   "execution_count": 41,
   "id": "d58bdac3-5b7f-4667-974c-cf6b608bf080",
   "metadata": {},
   "outputs": [
    {
     "data": {
      "text/plain": [
       "array([[17.17520629,  8.13289658, 13.14369266,  9.97161796],\n",
       "       [11.83457995,  8.79099978, 12.41904404, 16.08754553],\n",
       "       [ 9.27112125,  9.2985932 , 11.51095925, 12.15890807]])"
      ]
     },
     "execution_count": 41,
     "metadata": {},
     "output_type": "execute_result"
    }
   ],
   "source": [
    "np.random.normal(10,4, (3,4))  # cok bayutlu (matris) ort : 10, standartSapma= 4,  3'e 4'luk bir matris olusturulur"
   ]
  },
  {
   "cell_type": "code",
   "execution_count": 42,
   "id": "1058d68d-e0d1-4270-b18c-7de31a6686ff",
   "metadata": {},
   "outputs": [
    {
     "data": {
      "text/plain": [
       "array([[10.7959492 , 14.13060406,  6.29219462, 10.04545092],\n",
       "       [ 8.74751531, 11.1286532 , 11.84148371,  9.75192342],\n",
       "       [10.61601883, 10.73566962,  9.2547177 ,  7.18064432]])"
      ]
     },
     "execution_count": 42,
     "metadata": {},
     "output_type": "execute_result"
    }
   ],
   "source": [
    "np.random.normal(10,2, (3,4))  # cok bayutlu (matris) ort : 10, standartSapma= 2,  3'e 4'luk bir matris olusturulur"
   ]
  },
  {
   "cell_type": "code",
   "execution_count": 43,
   "id": "b59b30d2-2d24-49c5-a700-d0935e28aa79",
   "metadata": {},
   "outputs": [
    {
     "data": {
      "text/plain": [
       "array([[9, 4, 9],\n",
       "       [5, 7, 1],\n",
       "       [4, 8, 5]])"
      ]
     },
     "execution_count": 43,
     "metadata": {},
     "output_type": "execute_result"
    }
   ],
   "source": [
    "np.random.randint(0,10, (3,3))"
   ]
  },
  {
   "cell_type": "markdown",
   "id": "d6f8308f-40f5-4c67-a8a1-c7c8733c146f",
   "metadata": {
    "tags": []
   },
   "source": [
    "# NumPy Array Ozellikleri"
   ]
  },
  {
   "cell_type": "markdown",
   "id": "49ce9a87-bfc8-4df1-9c25-ad53f0bbca16",
   "metadata": {},
   "source": [
    "* **ndim**  : boyut sayısı        ==> veri maddeleme tek yildiz(*)  kalın yazmak için iki yıldız(**)\n",
    "* **shape** : _boyut_bilgisi_        ==> italik yazmak için alt tire baş ve sona eklenir  (_)\n",
    "* **size**  : toplam eleman sayisi \n",
    "* **dtype** : array veri tipi"
   ]
  },
  {
   "cell_type": "code",
   "execution_count": 44,
   "id": "119ce0be-7d4a-485b-b961-b064f4029462",
   "metadata": {},
   "outputs": [],
   "source": [
    "import numpy as np"
   ]
  },
  {
   "cell_type": "code",
   "execution_count": 45,
   "id": "0b91f881-beaa-432f-8b5b-d472acbbb88f",
   "metadata": {},
   "outputs": [
    {
     "data": {
      "text/plain": [
       "array([6, 4, 5, 8, 8, 8, 9, 0, 1, 4])"
      ]
     },
     "execution_count": 45,
     "metadata": {},
     "output_type": "execute_result"
    }
   ],
   "source": [
    "np.random.randint(10, size = 10)  # random ifadelerden, random int degerker olusturur "
   ]
  },
  {
   "cell_type": "code",
   "execution_count": 49,
   "id": "2dac92fc-471b-43b6-95be-81eca1237826",
   "metadata": {},
   "outputs": [],
   "source": [
    "a = np.random.randint(10, size = 10)"
   ]
  },
  {
   "cell_type": "code",
   "execution_count": 47,
   "id": "45aa75a0-e2fd-4749-91ef-336a3ca355b0",
   "metadata": {},
   "outputs": [
    {
     "data": {
      "text/plain": [
       "1"
      ]
     },
     "execution_count": 47,
     "metadata": {},
     "output_type": "execute_result"
    }
   ],
   "source": [
    "a.ndim   # array'in boyut sayisi"
   ]
  },
  {
   "cell_type": "code",
   "execution_count": 48,
   "id": "e2b10418-f1c0-456d-a883-2ae6a3cee1df",
   "metadata": {},
   "outputs": [
    {
     "data": {
      "text/plain": [
       "(10,)"
      ]
     },
     "execution_count": 48,
     "metadata": {},
     "output_type": "execute_result"
    }
   ],
   "source": [
    "a.shape  # array'in boyut bilgisini"
   ]
  },
  {
   "cell_type": "code",
   "execution_count": 50,
   "id": "789b3e70-6030-4f92-b8b1-980e556d8bb7",
   "metadata": {},
   "outputs": [
    {
     "data": {
      "text/plain": [
       "10"
      ]
     },
     "execution_count": 50,
     "metadata": {},
     "output_type": "execute_result"
    }
   ],
   "source": [
    "a.size  # toplam eleman sayisi"
   ]
  },
  {
   "cell_type": "code",
   "execution_count": 52,
   "id": "0e5b4018-d3d2-40b2-b034-6332b1b8071a",
   "metadata": {},
   "outputs": [
    {
     "data": {
      "text/plain": [
       "dtype('int32')"
      ]
     },
     "execution_count": 52,
     "metadata": {},
     "output_type": "execute_result"
    }
   ],
   "source": [
    "a.dtype # array veri tipi"
   ]
  },
  {
   "cell_type": "code",
   "execution_count": 53,
   "id": "e7ae328a-1614-4a49-a0e2-61e48cbe86a4",
   "metadata": {},
   "outputs": [],
   "source": [
    "b = np.random.randint(10, size = (3,5))"
   ]
  },
  {
   "cell_type": "code",
   "execution_count": 54,
   "id": "97bed71e-0c61-4c9a-97d9-8e861da01853",
   "metadata": {},
   "outputs": [
    {
     "data": {
      "text/plain": [
       "array([[7, 0, 5, 8, 1],\n",
       "       [8, 5, 3, 3, 5],\n",
       "       [6, 8, 6, 2, 3]])"
      ]
     },
     "execution_count": 54,
     "metadata": {},
     "output_type": "execute_result"
    }
   ],
   "source": [
    "b"
   ]
  },
  {
   "cell_type": "code",
   "execution_count": 55,
   "id": "1978ef83-3e39-46ae-bb9e-8962849a1420",
   "metadata": {},
   "outputs": [
    {
     "data": {
      "text/plain": [
       "2"
      ]
     },
     "execution_count": 55,
     "metadata": {},
     "output_type": "execute_result"
    }
   ],
   "source": [
    "b.ndim"
   ]
  },
  {
   "cell_type": "code",
   "execution_count": 56,
   "id": "9943c400-88f6-4cf6-8e96-5de82f8435a9",
   "metadata": {},
   "outputs": [
    {
     "data": {
      "text/plain": [
       "(3, 5)"
      ]
     },
     "execution_count": 56,
     "metadata": {},
     "output_type": "execute_result"
    }
   ],
   "source": [
    "b.shape"
   ]
  },
  {
   "cell_type": "code",
   "execution_count": 58,
   "id": "bd6e1238-ecc0-48d2-81d0-00204fb5c779",
   "metadata": {},
   "outputs": [
    {
     "data": {
      "text/plain": [
       "15"
      ]
     },
     "execution_count": 58,
     "metadata": {},
     "output_type": "execute_result"
    }
   ],
   "source": [
    "b.size"
   ]
  },
  {
   "cell_type": "code",
   "execution_count": 59,
   "id": "fbb9a7e6-2c33-4e2a-bf34-3e2578c8b460",
   "metadata": {},
   "outputs": [
    {
     "data": {
      "text/plain": [
       "dtype('int32')"
      ]
     },
     "execution_count": 59,
     "metadata": {},
     "output_type": "execute_result"
    }
   ],
   "source": [
    "b.dtype"
   ]
  },
  {
   "cell_type": "code",
   "execution_count": null,
   "id": "ba8c812b-3332-4425-92b9-f3d811b60bd8",
   "metadata": {},
   "outputs": [],
   "source": []
  },
  {
   "cell_type": "markdown",
   "id": "6dc8ee13-0e10-453d-b4d1-42026994ac6e",
   "metadata": {},
   "source": [
    "# Yeniden Şekillendirme (reshaping)"
   ]
  },
  {
   "cell_type": "code",
   "execution_count": 2,
   "id": "9592ac8c-0e7c-45df-b376-ee713f58dbfd",
   "metadata": {},
   "outputs": [],
   "source": [
    "import numpy as np"
   ]
  },
  {
   "cell_type": "code",
   "execution_count": 3,
   "id": "dabd71a4-a494-44aa-990b-ac0bb4403528",
   "metadata": {},
   "outputs": [
    {
     "data": {
      "text/plain": [
       "array([1, 2, 3, 4, 5, 6, 7, 8, 9])"
      ]
     },
     "execution_count": 3,
     "metadata": {},
     "output_type": "execute_result"
    }
   ],
   "source": [
    "np.arange(1,10)"
   ]
  },
  {
   "cell_type": "code",
   "execution_count": 4,
   "id": "bc27aa1d-370e-4177-a18a-ad36e8c87016",
   "metadata": {},
   "outputs": [
    {
     "data": {
      "text/plain": [
       "array([1, 3, 5, 7, 9])"
      ]
     },
     "execution_count": 4,
     "metadata": {},
     "output_type": "execute_result"
    }
   ],
   "source": [
    "np.arange(1,10,2)"
   ]
  },
  {
   "cell_type": "code",
   "execution_count": 5,
   "id": "5651196c-2af8-4bba-b828-ed65a5c1a01c",
   "metadata": {},
   "outputs": [
    {
     "data": {
      "text/plain": [
       "array([[1, 2, 3],\n",
       "       [4, 5, 6],\n",
       "       [7, 8, 9]])"
      ]
     },
     "execution_count": 5,
     "metadata": {},
     "output_type": "execute_result"
    }
   ],
   "source": [
    "np.arange(1,10).reshape((3,3))  # 3 e 3 boyutlu array "
   ]
  },
  {
   "cell_type": "code",
   "execution_count": 30,
   "id": "82201811-9a26-4171-ab9b-f4a64bb47cd9",
   "metadata": {},
   "outputs": [],
   "source": [
    "a = np.arange(1,10) # tek boyutlu bir matris, tek koseli parantez"
   ]
  },
  {
   "cell_type": "code",
   "execution_count": 25,
   "id": "bd9eba53-ba63-4374-9620-c551ac689e66",
   "metadata": {},
   "outputs": [
    {
     "data": {
      "text/plain": [
       "array([1, 2, 3, 4, 5, 6, 7, 8, 9])"
      ]
     },
     "execution_count": 25,
     "metadata": {},
     "output_type": "execute_result"
    }
   ],
   "source": [
    "a"
   ]
  },
  {
   "cell_type": "code",
   "execution_count": 26,
   "id": "aab22335-bc53-4de0-a212-628250477412",
   "metadata": {},
   "outputs": [
    {
     "data": {
      "text/plain": [
       "1"
      ]
     },
     "execution_count": 26,
     "metadata": {},
     "output_type": "execute_result"
    }
   ],
   "source": [
    "a.ndim"
   ]
  },
  {
   "cell_type": "code",
   "execution_count": 27,
   "id": "5870e522-13b5-4508-9747-b476c2e6e769",
   "metadata": {},
   "outputs": [
    {
     "data": {
      "text/plain": [
       "array([[1, 2, 3, 4, 5, 6, 7, 8, 9]])"
      ]
     },
     "execution_count": 27,
     "metadata": {},
     "output_type": "execute_result"
    }
   ],
   "source": [
    "a.reshape((1,9))  # 2 boyutlu bir matrisdir ancak tek bir vetorun tasidigi bilgiyi tasir, [[]] iki koseli parantez"
   ]
  },
  {
   "cell_type": "code",
   "execution_count": 28,
   "id": "241993ee-4ae9-4c02-9ebf-f6f855daafc1",
   "metadata": {},
   "outputs": [],
   "source": [
    "b = a.reshape((1,9))  # bir satir 9 sutundan olusan 2 boyutlu bir matris, reshape ile olusturulur."
   ]
  },
  {
   "cell_type": "code",
   "execution_count": 29,
   "id": "8b75763e-f21b-4887-867d-3c8935d86ca3",
   "metadata": {},
   "outputs": [
    {
     "data": {
      "text/plain": [
       "2"
      ]
     },
     "execution_count": 29,
     "metadata": {},
     "output_type": "execute_result"
    }
   ],
   "source": [
    "b.ndim"
   ]
  },
  {
   "cell_type": "code",
   "execution_count": null,
   "id": "1f9a2e69-25df-462d-9d0a-ca45c637b52d",
   "metadata": {},
   "outputs": [],
   "source": []
  },
  {
   "cell_type": "markdown",
   "id": "b0d70912-3dc1-4853-9558-567cf17fcf17",
   "metadata": {},
   "source": [
    "# Array Birleştirme (Concatenation)"
   ]
  },
  {
   "cell_type": "code",
   "execution_count": 1,
   "id": "eb49244d-da60-4a0e-8975-d0ed5e9cd524",
   "metadata": {},
   "outputs": [],
   "source": [
    "import numpy as np"
   ]
  },
  {
   "cell_type": "code",
   "execution_count": 2,
   "id": "d328cb53-c7bb-4cbd-8265-49dd1e6e1710",
   "metadata": {},
   "outputs": [],
   "source": [
    "x = np.array([1,2,3])\n",
    "y = np.array([4,5,6])"
   ]
  },
  {
   "cell_type": "code",
   "execution_count": 4,
   "id": "789b2ad8-3526-475d-ab9c-64a0a5221937",
   "metadata": {},
   "outputs": [
    {
     "data": {
      "text/plain": [
       "array([1, 2, 3, 4, 5, 6])"
      ]
     },
     "execution_count": 5,
     "metadata": {},
     "output_type": "execute_result"
    }
   ],
   "source": [
    "np.concatenate([x,y])  # 2 array birlestirilir"
   ]
  },
  {
   "cell_type": "code",
   "execution_count": 6,
   "id": "062993ff-144c-4a3c-97fe-e602a14d0192",
   "metadata": {},
   "outputs": [],
   "source": [
    "z = np.array([7,8,9])"
   ]
  },
  {
   "cell_type": "code",
   "execution_count": 7,
   "id": "4804bae4-894e-4c6a-8b40-e18695b002db",
   "metadata": {},
   "outputs": [
    {
     "data": {
      "text/plain": [
       "array([1, 2, 3, 4, 5, 6, 7, 8, 9])"
      ]
     },
     "execution_count": 7,
     "metadata": {},
     "output_type": "execute_result"
    }
   ],
   "source": [
    "np.concatenate([x,y,z])  # 3 array birlestirilip"
   ]
  },
  {
   "cell_type": "code",
   "execution_count": 8,
   "id": "82e4d3df-1f0c-440e-8a8d-5c1d8195e58b",
   "metadata": {},
   "outputs": [],
   "source": [
    "#iki boyut"
   ]
  },
  {
   "cell_type": "code",
   "execution_count": 10,
   "id": "c18ce657-dfd4-4ad3-bbc2-299f8590fe6a",
   "metadata": {},
   "outputs": [],
   "source": [
    "a = np.array([[1,2,3],[4,5,6]]) "
   ]
  },
  {
   "cell_type": "code",
   "execution_count": 15,
   "id": "df4dd801-fc73-4da1-9a8c-7b5fd3d1e53f",
   "metadata": {},
   "outputs": [
    {
     "data": {
      "text/plain": [
       "array([[1, 2, 3],\n",
       "       [4, 5, 6],\n",
       "       [1, 2, 3],\n",
       "       [4, 5, 6]])"
      ]
     },
     "execution_count": 15,
     "metadata": {},
     "output_type": "execute_result"
    }
   ],
   "source": [
    "np.concatenate([a,a]) # satir duzeyinde birlestirme axis = 0 demek varsayilan degerdir"
   ]
  },
  {
   "cell_type": "code",
   "execution_count": 12,
   "id": "b4ae94a8-cd3e-4ef6-9b02-a4a8ae3dd236",
   "metadata": {},
   "outputs": [
    {
     "data": {
      "text/plain": [
       "array([[1, 2, 3, 1, 2, 3],\n",
       "       [4, 5, 6, 4, 5, 6]])"
      ]
     },
     "execution_count": 12,
     "metadata": {},
     "output_type": "execute_result"
    }
   ],
   "source": [
    "np.concatenate([a,a], axis = 1) # sutun duzeyinde birlestirme axis = 1"
   ]
  },
  {
   "cell_type": "code",
   "execution_count": 16,
   "id": "262b6e51-fac7-459c-a2b9-27af9f76eb12",
   "metadata": {},
   "outputs": [],
   "source": [
    "a = np.array([[1,2,3],[4,5,6]]) "
   ]
  },
  {
   "cell_type": "code",
   "execution_count": 17,
   "id": "7eb0d89f-45fb-4ffa-88c7-4c178d9057ca",
   "metadata": {},
   "outputs": [
    {
     "data": {
      "text/plain": [
       "array([[1, 2, 3],\n",
       "       [4, 5, 6]])"
      ]
     },
     "execution_count": 17,
     "metadata": {},
     "output_type": "execute_result"
    }
   ],
   "source": [
    "a"
   ]
  },
  {
   "cell_type": "code",
   "execution_count": null,
   "id": "5dbbbe16-df9a-494e-bac8-a0111947dc1a",
   "metadata": {},
   "outputs": [],
   "source": []
  }
 ],
 "metadata": {
  "kernelspec": {
   "display_name": "Python 3 (ipykernel)",
   "language": "python",
   "name": "python3"
  },
  "language_info": {
   "codemirror_mode": {
    "name": "ipython",
    "version": 3
   },
   "file_extension": ".py",
   "mimetype": "text/x-python",
   "name": "python",
   "nbconvert_exporter": "python",
   "pygments_lexer": "ipython3",
   "version": "3.9.13"
  }
 },
 "nbformat": 4,
 "nbformat_minor": 5
}
