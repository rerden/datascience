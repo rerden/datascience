{
 "cells": [
  {
   "cell_type": "code",
   "execution_count": 1,
   "id": "ec2ae73e-f561-41b9-9ddf-97d37cb1aec5",
   "metadata": {},
   "outputs": [
    {
     "name": "stdout",
     "output_type": "stream",
     "text": [
      "a\n"
     ]
    }
   ],
   "source": [
    "print(\"a\")"
   ]
  },
  {
   "cell_type": "markdown",
   "id": "de835983-af13-4c17-bf3b-0dff83c2cd00",
   "metadata": {},
   "source": [
    "merhaba \n",
    "açıklama eklenip, başka ifadelerde eklenebilir\n",
    "\n",
    "__italik__\n",
    "\n",
    "**kalın**"
   ]
  },
  {
   "cell_type": "markdown",
   "id": "fc303eec-5b6b-4535-b390-7e42ba61d09d",
   "metadata": {},
   "source": [
    "# En Büyük Başlık\n",
    "## Merhaba\n",
    "### Merhaba"
   ]
  },
  {
   "cell_type": "markdown",
   "id": "e3d12079-5f39-4ff3-970b-5a4c9d2bd125",
   "metadata": {},
   "source": [
    "# Neden NumPy ?"
   ]
  },
  {
   "cell_type": "code",
   "execution_count": 7,
   "id": "f54f6f0a-7cfb-4b30-b659-ac1cf1bd6bf9",
   "metadata": {},
   "outputs": [],
   "source": [
    "a = [1,2,3,4]\n",
    "b = [2,3,4,5]\n"
   ]
  },
  {
   "cell_type": "code",
   "execution_count": 8,
   "id": "5db96748-15b9-478e-bd8e-7d269a5d188a",
   "metadata": {},
   "outputs": [
    {
     "data": {
      "text/plain": [
       "[2, 6, 12, 20]"
      ]
     },
     "execution_count": 8,
     "metadata": {},
     "output_type": "execute_result"
    }
   ],
   "source": [
    "ab = []\n",
    "\n",
    "for i in range(0, len(a)):\n",
    "    ab.append(a[i]*b[i])\n",
    "ab    "
   ]
  },
  {
   "cell_type": "code",
   "execution_count": 9,
   "id": "e9c209f5-8665-4229-b9f4-a9965016471c",
   "metadata": {},
   "outputs": [],
   "source": [
    "import numpy as np     # numpy isleri kolaylastirir"
   ]
  },
  {
   "cell_type": "code",
   "execution_count": 12,
   "id": "b67f8556-f2c1-44db-975f-210c020a629a",
   "metadata": {},
   "outputs": [],
   "source": [
    "a = np.array([1,2,3,4]) # numpy arrayler kullanilarak isler kolaylastirilir\n",
    "b = np.array([2,3,4,5])"
   ]
  },
  {
   "cell_type": "code",
   "execution_count": 11,
   "id": "9e1aa5a7-88ad-4eaa-bc9a-d31ad8193717",
   "metadata": {},
   "outputs": [
    {
     "data": {
      "text/plain": [
       "array([ 2,  6, 12, 20])"
      ]
     },
     "execution_count": 11,
     "metadata": {},
     "output_type": "execute_result"
    }
   ],
   "source": [
    "a * b"
   ]
  },
  {
   "cell_type": "markdown",
   "id": "2b209450-357f-4979-b1ac-bb8c163df0fa",
   "metadata": {},
   "source": [
    "# NumPy Array'i olusturmak"
   ]
  },
  {
   "cell_type": "code",
   "execution_count": 17,
   "id": "f5862cc5-a6e5-4169-a6d6-eaf1ae079d35",
   "metadata": {},
   "outputs": [],
   "source": [
    "import numpy as np          # numpy kutuphane import edilir, kisayol olarak as ile np tanimlanir"
   ]
  },
  {
   "cell_type": "code",
   "execution_count": 18,
   "id": "9b635642-b0f0-4a8f-840e-cc9ed8fe4622",
   "metadata": {},
   "outputs": [
    {
     "data": {
      "text/plain": [
       "array([1, 2, 3, 4, 5])"
      ]
     },
     "execution_count": 18,
     "metadata": {},
     "output_type": "execute_result"
    }
   ],
   "source": [
    "np.array([1,2,3,4,5])"
   ]
  },
  {
   "cell_type": "code",
   "execution_count": 23,
   "id": "96472c6b-2f7b-4523-97c1-623268527984",
   "metadata": {},
   "outputs": [],
   "source": [
    "a = np.array([1,2,3,4,5])"
   ]
  },
  {
   "cell_type": "code",
   "execution_count": 24,
   "id": "4b8f0e8b-27fd-4403-854a-0bb449102e96",
   "metadata": {},
   "outputs": [
    {
     "data": {
      "text/plain": [
       "numpy.ndarray"
      ]
     },
     "execution_count": 24,
     "metadata": {},
     "output_type": "execute_result"
    }
   ],
   "source": [
    "type(a) "
   ]
  },
  {
   "cell_type": "code",
   "execution_count": 26,
   "id": "b56211b1-ecec-4e83-9563-f90337e8f934",
   "metadata": {},
   "outputs": [
    {
     "data": {
      "text/plain": [
       "array([ 3,  4,  2, 13])"
      ]
     },
     "execution_count": 26,
     "metadata": {},
     "output_type": "execute_result"
    }
   ],
   "source": [
    "np.array([3.14, 4, 2, 13], dtype=\"int\") # dtype=\" \" ile istenilen veri formatinda tanimlama yapilabilr dtype=\"int\", dtype=\"string\""
   ]
  },
  {
   "cell_type": "code",
   "execution_count": 27,
   "id": "9b8aa69e-c9d9-4f9f-8b43-859cc69a0013",
   "metadata": {},
   "outputs": [
    {
     "data": {
      "text/plain": [
       "array([ 3.14,  4.  ,  2.  , 13.  ])"
      ]
     },
     "execution_count": 27,
     "metadata": {},
     "output_type": "execute_result"
    }
   ],
   "source": [
    "np.array([3.14, 4, 2, 13], dtype=\"float\")"
   ]
  },
  {
   "cell_type": "code",
   "execution_count": 29,
   "id": "fc2ff685-9707-491f-a4b9-e99c59580b35",
   "metadata": {},
   "outputs": [
    {
     "data": {
      "text/plain": [
       "array(['3.14', '4', '2', '13'], dtype='<U4')"
      ]
     },
     "execution_count": 29,
     "metadata": {},
     "output_type": "execute_result"
    }
   ],
   "source": [
    "np.array([3.14, 4, 2, 13], dtype=\"str\")"
   ]
  },
  {
   "cell_type": "code",
   "execution_count": 30,
   "id": "be632800-ad12-4620-af6e-cc704543d50c",
   "metadata": {},
   "outputs": [],
   "source": [
    "#Sifirdan array olusturma"
   ]
  },
  {
   "cell_type": "code",
   "execution_count": 31,
   "id": "e5bc4b7c-9aea-4950-9e0d-57245e950ef2",
   "metadata": {},
   "outputs": [
    {
     "data": {
      "text/plain": [
       "array([0, 0, 0, 0, 0, 0, 0, 0, 0, 0])"
      ]
     },
     "execution_count": 31,
     "metadata": {},
     "output_type": "execute_result"
    }
   ],
   "source": [
    "np.zeros(10, dtype=int)"
   ]
  },
  {
   "cell_type": "code",
   "execution_count": 33,
   "id": "600069bd-705a-4eae-8a87-20768d658cc5",
   "metadata": {},
   "outputs": [
    {
     "data": {
      "text/plain": [
       "array([[1., 1., 1., 1., 1.],\n",
       "       [1., 1., 1., 1., 1.],\n",
       "       [1., 1., 1., 1., 1.]])"
      ]
     },
     "execution_count": 33,
     "metadata": {},
     "output_type": "execute_result"
    }
   ],
   "source": [
    "np.ones((3,5))"
   ]
  },
  {
   "cell_type": "code",
   "execution_count": 35,
   "id": "b804b607-a438-48ad-a580-ab3dd0dfd081",
   "metadata": {},
   "outputs": [
    {
     "data": {
      "text/plain": [
       "array([[1, 1, 1, 1, 1],\n",
       "       [1, 1, 1, 1, 1],\n",
       "       [1, 1, 1, 1, 1]])"
      ]
     },
     "execution_count": 35,
     "metadata": {},
     "output_type": "execute_result"
    }
   ],
   "source": [
    "np.ones((3,5), dtype = int)  # 3 satir ve 5 sutunluk int degerleriyle olusturulan matris "
   ]
  },
  {
   "cell_type": "code",
   "execution_count": 36,
   "id": "edc5f015-728a-4462-8323-5eb2e04fe4ae",
   "metadata": {},
   "outputs": [
    {
     "data": {
      "text/plain": [
       "array([[3, 3, 3, 3, 3],\n",
       "       [3, 3, 3, 3, 3],\n",
       "       [3, 3, 3, 3, 3]])"
      ]
     },
     "execution_count": 36,
     "metadata": {},
     "output_type": "execute_result"
    }
   ],
   "source": [
    "np.full((3,5), 3)  # 3 lerden olusan bir matris"
   ]
  },
  {
   "cell_type": "code",
   "execution_count": 39,
   "id": "3255e12f-d4c0-491d-99c8-722315faf75f",
   "metadata": {},
   "outputs": [
    {
     "data": {
      "text/plain": [
       "array([ 0,  3,  6,  9, 12, 15, 18, 21, 24, 27, 30])"
      ]
     },
     "execution_count": 39,
     "metadata": {},
     "output_type": "execute_result"
    }
   ],
   "source": [
    "np.arange(0, 31, 3)  # tek bayutlu-satirli(vektor) matris 3 er artis ile matris olusturulur"
   ]
  },
  {
   "cell_type": "code",
   "execution_count": 40,
   "id": "4f1847b8-b5dd-4f3f-83b4-16e2ef74c5c6",
   "metadata": {},
   "outputs": [
    {
     "data": {
      "text/plain": [
       "array([0.        , 0.11111111, 0.22222222, 0.33333333, 0.44444444,\n",
       "       0.55555556, 0.66666667, 0.77777778, 0.88888889, 1.        ])"
      ]
     },
     "execution_count": 40,
     "metadata": {},
     "output_type": "execute_result"
    }
   ],
   "source": [
    "np.linspace(0,1,10)"
   ]
  },
  {
   "cell_type": "code",
   "execution_count": 41,
   "id": "d58bdac3-5b7f-4667-974c-cf6b608bf080",
   "metadata": {},
   "outputs": [
    {
     "data": {
      "text/plain": [
       "array([[17.17520629,  8.13289658, 13.14369266,  9.97161796],\n",
       "       [11.83457995,  8.79099978, 12.41904404, 16.08754553],\n",
       "       [ 9.27112125,  9.2985932 , 11.51095925, 12.15890807]])"
      ]
     },
     "execution_count": 41,
     "metadata": {},
     "output_type": "execute_result"
    }
   ],
   "source": [
    "np.random.normal(10,4, (3,4))  # cok bayutlu (matris) ort : 10, standartSapma= 4,  3'e 4'luk bir matris olusturulur"
   ]
  },
  {
   "cell_type": "code",
   "execution_count": 42,
   "id": "1058d68d-e0d1-4270-b18c-7de31a6686ff",
   "metadata": {},
   "outputs": [
    {
     "data": {
      "text/plain": [
       "array([[10.7959492 , 14.13060406,  6.29219462, 10.04545092],\n",
       "       [ 8.74751531, 11.1286532 , 11.84148371,  9.75192342],\n",
       "       [10.61601883, 10.73566962,  9.2547177 ,  7.18064432]])"
      ]
     },
     "execution_count": 42,
     "metadata": {},
     "output_type": "execute_result"
    }
   ],
   "source": [
    "np.random.normal(10,2, (3,4))  # cok bayutlu (matris) ort : 10, standartSapma= 2,  3'e 4'luk bir matris olusturulur"
   ]
  },
  {
   "cell_type": "code",
   "execution_count": 43,
   "id": "b59b30d2-2d24-49c5-a700-d0935e28aa79",
   "metadata": {},
   "outputs": [
    {
     "data": {
      "text/plain": [
       "array([[9, 4, 9],\n",
       "       [5, 7, 1],\n",
       "       [4, 8, 5]])"
      ]
     },
     "execution_count": 43,
     "metadata": {},
     "output_type": "execute_result"
    }
   ],
   "source": [
    "np.random.randint(0,10, (3,3))"
   ]
  },
  {
   "cell_type": "markdown",
   "id": "d6f8308f-40f5-4c67-a8a1-c7c8733c146f",
   "metadata": {
    "tags": []
   },
   "source": [
    "# NumPy Array Ozellikleri"
   ]
  },
  {
   "cell_type": "markdown",
   "id": "49ce9a87-bfc8-4df1-9c25-ad53f0bbca16",
   "metadata": {},
   "source": [
    "* **ndim**  : boyut sayısı        ==> veri maddeleme tek yildiz(*)  kalın yazmak için iki yıldız(**)\n",
    "* **shape** : _boyut_bilgisi_        ==> italik yazmak için alt tire baş ve sona eklenir  (_)\n",
    "* **size**  : toplam eleman sayisi \n",
    "* **dtype** : array veri tipi"
   ]
  },
  {
   "cell_type": "code",
   "execution_count": 44,
   "id": "119ce0be-7d4a-485b-b961-b064f4029462",
   "metadata": {},
   "outputs": [],
   "source": [
    "import numpy as np"
   ]
  },
  {
   "cell_type": "code",
   "execution_count": 45,
   "id": "0b91f881-beaa-432f-8b5b-d472acbbb88f",
   "metadata": {},
   "outputs": [
    {
     "data": {
      "text/plain": [
       "array([6, 4, 5, 8, 8, 8, 9, 0, 1, 4])"
      ]
     },
     "execution_count": 45,
     "metadata": {},
     "output_type": "execute_result"
    }
   ],
   "source": [
    "np.random.randint(10, size = 10)  # random ifadelerden, random int degerker olusturur "
   ]
  },
  {
   "cell_type": "code",
   "execution_count": 49,
   "id": "2dac92fc-471b-43b6-95be-81eca1237826",
   "metadata": {},
   "outputs": [],
   "source": [
    "a = np.random.randint(10, size = 10)"
   ]
  },
  {
   "cell_type": "code",
   "execution_count": 47,
   "id": "45aa75a0-e2fd-4749-91ef-336a3ca355b0",
   "metadata": {},
   "outputs": [
    {
     "data": {
      "text/plain": [
       "1"
      ]
     },
     "execution_count": 47,
     "metadata": {},
     "output_type": "execute_result"
    }
   ],
   "source": [
    "a.ndim   # array'in boyut sayisi"
   ]
  },
  {
   "cell_type": "code",
   "execution_count": 48,
   "id": "e2b10418-f1c0-456d-a883-2ae6a3cee1df",
   "metadata": {},
   "outputs": [
    {
     "data": {
      "text/plain": [
       "(10,)"
      ]
     },
     "execution_count": 48,
     "metadata": {},
     "output_type": "execute_result"
    }
   ],
   "source": [
    "a.shape  # array'in boyut bilgisini"
   ]
  },
  {
   "cell_type": "code",
   "execution_count": 50,
   "id": "789b3e70-6030-4f92-b8b1-980e556d8bb7",
   "metadata": {},
   "outputs": [
    {
     "data": {
      "text/plain": [
       "10"
      ]
     },
     "execution_count": 50,
     "metadata": {},
     "output_type": "execute_result"
    }
   ],
   "source": [
    "a.size  # toplam eleman sayisi"
   ]
  },
  {
   "cell_type": "code",
   "execution_count": 52,
   "id": "0e5b4018-d3d2-40b2-b034-6332b1b8071a",
   "metadata": {},
   "outputs": [
    {
     "data": {
      "text/plain": [
       "dtype('int32')"
      ]
     },
     "execution_count": 52,
     "metadata": {},
     "output_type": "execute_result"
    }
   ],
   "source": [
    "a.dtype # array veri tipi"
   ]
  },
  {
   "cell_type": "code",
   "execution_count": 53,
   "id": "e7ae328a-1614-4a49-a0e2-61e48cbe86a4",
   "metadata": {},
   "outputs": [],
   "source": [
    "b = np.random.randint(10, size = (3,5))"
   ]
  },
  {
   "cell_type": "code",
   "execution_count": 54,
   "id": "97bed71e-0c61-4c9a-97d9-8e861da01853",
   "metadata": {},
   "outputs": [
    {
     "data": {
      "text/plain": [
       "array([[7, 0, 5, 8, 1],\n",
       "       [8, 5, 3, 3, 5],\n",
       "       [6, 8, 6, 2, 3]])"
      ]
     },
     "execution_count": 54,
     "metadata": {},
     "output_type": "execute_result"
    }
   ],
   "source": [
    "b"
   ]
  },
  {
   "cell_type": "code",
   "execution_count": 55,
   "id": "1978ef83-3e39-46ae-bb9e-8962849a1420",
   "metadata": {},
   "outputs": [
    {
     "data": {
      "text/plain": [
       "2"
      ]
     },
     "execution_count": 55,
     "metadata": {},
     "output_type": "execute_result"
    }
   ],
   "source": [
    "b.ndim"
   ]
  },
  {
   "cell_type": "code",
   "execution_count": 56,
   "id": "9943c400-88f6-4cf6-8e96-5de82f8435a9",
   "metadata": {},
   "outputs": [
    {
     "data": {
      "text/plain": [
       "(3, 5)"
      ]
     },
     "execution_count": 56,
     "metadata": {},
     "output_type": "execute_result"
    }
   ],
   "source": [
    "b.shape"
   ]
  },
  {
   "cell_type": "code",
   "execution_count": 58,
   "id": "bd6e1238-ecc0-48d2-81d0-00204fb5c779",
   "metadata": {},
   "outputs": [
    {
     "data": {
      "text/plain": [
       "15"
      ]
     },
     "execution_count": 58,
     "metadata": {},
     "output_type": "execute_result"
    }
   ],
   "source": [
    "b.size"
   ]
  },
  {
   "cell_type": "code",
   "execution_count": 59,
   "id": "fbb9a7e6-2c33-4e2a-bf34-3e2578c8b460",
   "metadata": {},
   "outputs": [
    {
     "data": {
      "text/plain": [
       "dtype('int32')"
      ]
     },
     "execution_count": 59,
     "metadata": {},
     "output_type": "execute_result"
    }
   ],
   "source": [
    "b.dtype"
   ]
  },
  {
   "cell_type": "code",
   "execution_count": null,
   "id": "ba8c812b-3332-4425-92b9-f3d811b60bd8",
   "metadata": {},
   "outputs": [],
   "source": []
  },
  {
   "cell_type": "markdown",
   "id": "6dc8ee13-0e10-453d-b4d1-42026994ac6e",
   "metadata": {},
   "source": [
    "# Yeniden Şekillendirme (reshaping)"
   ]
  },
  {
   "cell_type": "code",
   "execution_count": 2,
   "id": "9592ac8c-0e7c-45df-b376-ee713f58dbfd",
   "metadata": {},
   "outputs": [],
   "source": [
    "import numpy as np"
   ]
  },
  {
   "cell_type": "code",
   "execution_count": 3,
   "id": "dabd71a4-a494-44aa-990b-ac0bb4403528",
   "metadata": {},
   "outputs": [
    {
     "data": {
      "text/plain": [
       "array([1, 2, 3, 4, 5, 6, 7, 8, 9])"
      ]
     },
     "execution_count": 3,
     "metadata": {},
     "output_type": "execute_result"
    }
   ],
   "source": [
    "np.arange(1,10)"
   ]
  },
  {
   "cell_type": "code",
   "execution_count": 4,
   "id": "bc27aa1d-370e-4177-a18a-ad36e8c87016",
   "metadata": {},
   "outputs": [
    {
     "data": {
      "text/plain": [
       "array([1, 3, 5, 7, 9])"
      ]
     },
     "execution_count": 4,
     "metadata": {},
     "output_type": "execute_result"
    }
   ],
   "source": [
    "np.arange(1,10,2)"
   ]
  },
  {
   "cell_type": "code",
   "execution_count": 5,
   "id": "5651196c-2af8-4bba-b828-ed65a5c1a01c",
   "metadata": {},
   "outputs": [
    {
     "data": {
      "text/plain": [
       "array([[1, 2, 3],\n",
       "       [4, 5, 6],\n",
       "       [7, 8, 9]])"
      ]
     },
     "execution_count": 5,
     "metadata": {},
     "output_type": "execute_result"
    }
   ],
   "source": [
    "np.arange(1,10).reshape((3,3))  # 3 e 3 boyutlu array "
   ]
  },
  {
   "cell_type": "code",
   "execution_count": 30,
   "id": "82201811-9a26-4171-ab9b-f4a64bb47cd9",
   "metadata": {},
   "outputs": [],
   "source": [
    "a = np.arange(1,10) # tek boyutlu bir matris, tek koseli parantez"
   ]
  },
  {
   "cell_type": "code",
   "execution_count": 25,
   "id": "bd9eba53-ba63-4374-9620-c551ac689e66",
   "metadata": {},
   "outputs": [
    {
     "data": {
      "text/plain": [
       "array([1, 2, 3, 4, 5, 6, 7, 8, 9])"
      ]
     },
     "execution_count": 25,
     "metadata": {},
     "output_type": "execute_result"
    }
   ],
   "source": [
    "a"
   ]
  },
  {
   "cell_type": "code",
   "execution_count": 26,
   "id": "aab22335-bc53-4de0-a212-628250477412",
   "metadata": {},
   "outputs": [
    {
     "data": {
      "text/plain": [
       "1"
      ]
     },
     "execution_count": 26,
     "metadata": {},
     "output_type": "execute_result"
    }
   ],
   "source": [
    "a.ndim"
   ]
  },
  {
   "cell_type": "code",
   "execution_count": 27,
   "id": "5870e522-13b5-4508-9747-b476c2e6e769",
   "metadata": {},
   "outputs": [
    {
     "data": {
      "text/plain": [
       "array([[1, 2, 3, 4, 5, 6, 7, 8, 9]])"
      ]
     },
     "execution_count": 27,
     "metadata": {},
     "output_type": "execute_result"
    }
   ],
   "source": [
    "a.reshape((1,9))  # 2 boyutlu bir matrisdir ancak tek bir vetorun tasidigi bilgiyi tasir, [[]] iki koseli parantez"
   ]
  },
  {
   "cell_type": "code",
   "execution_count": 28,
   "id": "241993ee-4ae9-4c02-9ebf-f6f855daafc1",
   "metadata": {},
   "outputs": [],
   "source": [
    "b = a.reshape((1,9))  # bir satir 9 sutundan olusan 2 boyutlu bir matris, reshape ile olusturulur."
   ]
  },
  {
   "cell_type": "code",
   "execution_count": 29,
   "id": "8b75763e-f21b-4887-867d-3c8935d86ca3",
   "metadata": {},
   "outputs": [
    {
     "data": {
      "text/plain": [
       "2"
      ]
     },
     "execution_count": 29,
     "metadata": {},
     "output_type": "execute_result"
    }
   ],
   "source": [
    "b.ndim"
   ]
  },
  {
   "cell_type": "code",
   "execution_count": null,
   "id": "1f9a2e69-25df-462d-9d0a-ca45c637b52d",
   "metadata": {},
   "outputs": [],
   "source": []
  },
  {
   "cell_type": "markdown",
   "id": "b0d70912-3dc1-4853-9558-567cf17fcf17",
   "metadata": {},
   "source": [
    "# Array Birleştirme (Concatenation)"
   ]
  },
  {
   "cell_type": "code",
   "execution_count": 1,
   "id": "eb49244d-da60-4a0e-8975-d0ed5e9cd524",
   "metadata": {},
   "outputs": [],
   "source": [
    "import numpy as np"
   ]
  },
  {
   "cell_type": "code",
   "execution_count": 2,
   "id": "d328cb53-c7bb-4cbd-8265-49dd1e6e1710",
   "metadata": {},
   "outputs": [],
   "source": [
    "x = np.array([1,2,3])\n",
    "y = np.array([4,5,6])"
   ]
  },
  {
   "cell_type": "code",
   "execution_count": 4,
   "id": "789b2ad8-3526-475d-ab9c-64a0a5221937",
   "metadata": {},
   "outputs": [
    {
     "data": {
      "text/plain": [
       "array([1, 2, 3, 4, 5, 6])"
      ]
     },
     "execution_count": 5,
     "metadata": {},
     "output_type": "execute_result"
    }
   ],
   "source": [
    "np.concatenate([x,y])  # 2 array birlestirilir"
   ]
  },
  {
   "cell_type": "code",
   "execution_count": 6,
   "id": "062993ff-144c-4a3c-97fe-e602a14d0192",
   "metadata": {},
   "outputs": [],
   "source": [
    "z = np.array([7,8,9])"
   ]
  },
  {
   "cell_type": "code",
   "execution_count": 7,
   "id": "4804bae4-894e-4c6a-8b40-e18695b002db",
   "metadata": {},
   "outputs": [
    {
     "data": {
      "text/plain": [
       "array([1, 2, 3, 4, 5, 6, 7, 8, 9])"
      ]
     },
     "execution_count": 7,
     "metadata": {},
     "output_type": "execute_result"
    }
   ],
   "source": [
    "np.concatenate([x,y,z])  # 3 array birlestirilip"
   ]
  },
  {
   "cell_type": "code",
   "execution_count": 8,
   "id": "82e4d3df-1f0c-440e-8a8d-5c1d8195e58b",
   "metadata": {},
   "outputs": [],
   "source": [
    "#iki boyut"
   ]
  },
  {
   "cell_type": "code",
   "execution_count": 10,
   "id": "c18ce657-dfd4-4ad3-bbc2-299f8590fe6a",
   "metadata": {},
   "outputs": [],
   "source": [
    "a = np.array([[1,2,3],[4,5,6]]) "
   ]
  },
  {
   "cell_type": "code",
   "execution_count": 15,
   "id": "df4dd801-fc73-4da1-9a8c-7b5fd3d1e53f",
   "metadata": {},
   "outputs": [
    {
     "data": {
      "text/plain": [
       "array([[1, 2, 3],\n",
       "       [4, 5, 6],\n",
       "       [1, 2, 3],\n",
       "       [4, 5, 6]])"
      ]
     },
     "execution_count": 15,
     "metadata": {},
     "output_type": "execute_result"
    }
   ],
   "source": [
    "np.concatenate([a,a]) # satir duzeyinde birlestirme axis = 0 demek varsayilan degerdir"
   ]
  },
  {
   "cell_type": "code",
   "execution_count": 12,
   "id": "b4ae94a8-cd3e-4ef6-9b02-a4a8ae3dd236",
   "metadata": {},
   "outputs": [
    {
     "data": {
      "text/plain": [
       "array([[1, 2, 3, 1, 2, 3],\n",
       "       [4, 5, 6, 4, 5, 6]])"
      ]
     },
     "execution_count": 12,
     "metadata": {},
     "output_type": "execute_result"
    }
   ],
   "source": [
    "np.concatenate([a,a], axis = 1) # sutun duzeyinde birlestirme axis = 1"
   ]
  },
  {
   "cell_type": "code",
   "execution_count": 16,
   "id": "262b6e51-fac7-459c-a2b9-27af9f76eb12",
   "metadata": {},
   "outputs": [],
   "source": [
    "a = np.array([[1,2,3],[4,5,6]]) "
   ]
  },
  {
   "cell_type": "code",
   "execution_count": 17,
   "id": "7eb0d89f-45fb-4ffa-88c7-4c178d9057ca",
   "metadata": {},
   "outputs": [
    {
     "data": {
      "text/plain": [
       "array([[1, 2, 3],\n",
       "       [4, 5, 6]])"
      ]
     },
     "execution_count": 17,
     "metadata": {},
     "output_type": "execute_result"
    }
   ],
   "source": [
    "a"
   ]
  },
  {
   "cell_type": "markdown",
   "id": "e980c84d-d69e-49f2-b5c9-38127cea0248",
   "metadata": {},
   "source": [
    "# Array Ayırma (Splitting)"
   ]
  },
  {
   "cell_type": "code",
   "execution_count": 60,
   "id": "6eccbf94-ecde-4aaf-8bdd-0a917be28de2",
   "metadata": {},
   "outputs": [],
   "source": [
    "import numpy as np"
   ]
  },
  {
   "cell_type": "code",
   "execution_count": 61,
   "id": "e5784038-abd7-4c3b-88f4-151bce1d3601",
   "metadata": {},
   "outputs": [],
   "source": [
    "x = np.array([1,2,3,99,99,3,2,1])"
   ]
  },
  {
   "cell_type": "code",
   "execution_count": 63,
   "id": "8d208e1e-4be2-4807-9729-0e2181887fa0",
   "metadata": {},
   "outputs": [
    {
     "data": {
      "text/plain": [
       "[array([1, 2, 3]), array([99, 99]), array([3, 2, 1])]"
      ]
     },
     "execution_count": 63,
     "metadata": {},
     "output_type": "execute_result"
    }
   ],
   "source": [
    "np.split(x,[3,5]) # 3' e kadar olan kisim(1,2,3), 5'e kadar olan kisim (1,2,3,99,99) e kadar ksim (99,99) kalna kisim"
   ]
  },
  {
   "cell_type": "code",
   "execution_count": 64,
   "id": "0c64384b-82c4-4332-8984-e083014257e9",
   "metadata": {},
   "outputs": [],
   "source": [
    "a, b, c = np.split(x,[3,5])  # 3 kisma ayrilip a,b,c ye atanir ayni zamanda"
   ]
  },
  {
   "cell_type": "code",
   "execution_count": 65,
   "id": "9b96d2bf-4054-4f9d-9749-feaaa70383c1",
   "metadata": {},
   "outputs": [
    {
     "data": {
      "text/plain": [
       "array([1, 2, 3])"
      ]
     },
     "execution_count": 65,
     "metadata": {},
     "output_type": "execute_result"
    }
   ],
   "source": [
    "a"
   ]
  },
  {
   "cell_type": "code",
   "execution_count": 66,
   "id": "e3a55d2d-f01b-4ec8-b732-c9f7c553ee46",
   "metadata": {},
   "outputs": [
    {
     "data": {
      "text/plain": [
       "array([99, 99])"
      ]
     },
     "execution_count": 66,
     "metadata": {},
     "output_type": "execute_result"
    }
   ],
   "source": [
    "b"
   ]
  },
  {
   "cell_type": "code",
   "execution_count": 67,
   "id": "344b83b1-69b0-4aec-bb44-8c912e147d29",
   "metadata": {},
   "outputs": [
    {
     "data": {
      "text/plain": [
       "array([3, 2, 1])"
      ]
     },
     "execution_count": 67,
     "metadata": {},
     "output_type": "execute_result"
    }
   ],
   "source": [
    "c"
   ]
  },
  {
   "cell_type": "code",
   "execution_count": 68,
   "id": "0a3799ad-064f-46a9-97c6-7777f2498dc1",
   "metadata": {},
   "outputs": [],
   "source": [
    "# iki boyutlu ayırma"
   ]
  },
  {
   "cell_type": "code",
   "execution_count": 76,
   "id": "fc6a7a5c-9e73-4c70-bcf8-ca4973fff716",
   "metadata": {},
   "outputs": [
    {
     "data": {
      "text/plain": [
       "array([[ 0,  1,  2,  3],\n",
       "       [ 4,  5,  6,  7],\n",
       "       [ 8,  9, 10, 11],\n",
       "       [12, 13, 14, 15]])"
      ]
     },
     "execution_count": 76,
     "metadata": {},
     "output_type": "execute_result"
    }
   ],
   "source": [
    "m = np.arange(16).reshape(4,4)\n",
    "m"
   ]
  },
  {
   "cell_type": "code",
   "execution_count": 77,
   "id": "2902f43d-10bc-45d6-b5f9-9d2713a74c68",
   "metadata": {},
   "outputs": [
    {
     "data": {
      "text/plain": [
       "[array([[0, 1, 2, 3],\n",
       "        [4, 5, 6, 7]]),\n",
       " array([[ 8,  9, 10, 11],\n",
       "        [12, 13, 14, 15]])]"
      ]
     },
     "execution_count": 77,
     "metadata": {},
     "output_type": "execute_result"
    }
   ],
   "source": [
    "np.vsplit(m,[2])"
   ]
  },
  {
   "cell_type": "code",
   "execution_count": 90,
   "id": "9f9107ab-70b5-44b1-b86f-d9ae9b5fb6c0",
   "metadata": {},
   "outputs": [],
   "source": [
    "ust, alt = np.split(m,[2])"
   ]
  },
  {
   "cell_type": "code",
   "execution_count": 91,
   "id": "01436d02-13f3-49b1-a1b5-8ed62374883e",
   "metadata": {},
   "outputs": [
    {
     "data": {
      "text/plain": [
       "array([[0, 1, 2, 3],\n",
       "       [4, 5, 6, 7]])"
      ]
     },
     "execution_count": 91,
     "metadata": {},
     "output_type": "execute_result"
    }
   ],
   "source": [
    "ust"
   ]
  },
  {
   "cell_type": "code",
   "execution_count": 92,
   "id": "536e0f33-bd86-47ae-9e0b-f7316f0efafd",
   "metadata": {},
   "outputs": [
    {
     "data": {
      "text/plain": [
       "array([[ 8,  9, 10, 11],\n",
       "       [12, 13, 14, 15]])"
      ]
     },
     "execution_count": 92,
     "metadata": {},
     "output_type": "execute_result"
    }
   ],
   "source": [
    "alt"
   ]
  },
  {
   "cell_type": "code",
   "execution_count": 93,
   "id": "e5189a57-7a76-4ea7-bf96-50dbe629dca8",
   "metadata": {},
   "outputs": [
    {
     "data": {
      "text/plain": [
       "array([[ 0,  1,  2,  3],\n",
       "       [ 4,  5,  6,  7],\n",
       "       [ 8,  9, 10, 11],\n",
       "       [12, 13, 14, 15]])"
      ]
     },
     "execution_count": 93,
     "metadata": {},
     "output_type": "execute_result"
    }
   ],
   "source": [
    "m"
   ]
  },
  {
   "cell_type": "code",
   "execution_count": 94,
   "id": "e1aef393-0e7f-4d03-bbae-ffe339b3f71a",
   "metadata": {},
   "outputs": [
    {
     "data": {
      "text/plain": [
       "[array([[ 0,  1],\n",
       "        [ 4,  5],\n",
       "        [ 8,  9],\n",
       "        [12, 13]]),\n",
       " array([[ 2,  3],\n",
       "        [ 6,  7],\n",
       "        [10, 11],\n",
       "        [14, 15]])]"
      ]
     },
     "execution_count": 94,
     "metadata": {},
     "output_type": "execute_result"
    }
   ],
   "source": [
    "np.hsplit(m,[2])"
   ]
  },
  {
   "cell_type": "code",
   "execution_count": 100,
   "id": "5dee9713-abca-4316-bbbd-bd6f9afa7fdb",
   "metadata": {},
   "outputs": [],
   "source": [
    "sol, sag = np.hsplit(m, [2])"
   ]
  },
  {
   "cell_type": "code",
   "execution_count": 101,
   "id": "830447a2-30d3-4fdb-a180-bdb00d62a51d",
   "metadata": {},
   "outputs": [
    {
     "data": {
      "text/plain": [
       "array([[ 0,  1],\n",
       "       [ 4,  5],\n",
       "       [ 8,  9],\n",
       "       [12, 13]])"
      ]
     },
     "execution_count": 101,
     "metadata": {},
     "output_type": "execute_result"
    }
   ],
   "source": [
    "sol"
   ]
  },
  {
   "cell_type": "code",
   "execution_count": 102,
   "id": "4081f14b-124b-4c65-9e7c-9994e25cb21d",
   "metadata": {},
   "outputs": [
    {
     "data": {
      "text/plain": [
       "array([[ 2,  3],\n",
       "       [ 6,  7],\n",
       "       [10, 11],\n",
       "       [14, 15]])"
      ]
     },
     "execution_count": 102,
     "metadata": {},
     "output_type": "execute_result"
    }
   ],
   "source": [
    "sag"
   ]
  },
  {
   "cell_type": "markdown",
   "id": "2e1f9ad1-7f95-4922-8a1d-3908a6392997",
   "metadata": {},
   "source": [
    "# Array Sıralama (Sorting)"
   ]
  },
  {
   "cell_type": "code",
   "execution_count": 103,
   "id": "10811da2-a257-42a1-b618-649ea15c8a5e",
   "metadata": {},
   "outputs": [],
   "source": [
    "import numpy as np"
   ]
  },
  {
   "cell_type": "code",
   "execution_count": 104,
   "id": "fd0d5d62-71a7-408b-8dac-1e99d0c3c4fd",
   "metadata": {},
   "outputs": [],
   "source": [
    "v = np.array([2,1,6,9,8])"
   ]
  },
  {
   "cell_type": "code",
   "execution_count": 105,
   "id": "24efe158-e31c-4aa8-87b8-c196af723537",
   "metadata": {},
   "outputs": [
    {
     "data": {
      "text/plain": [
       "array([2, 1, 6, 9, 8])"
      ]
     },
     "execution_count": 105,
     "metadata": {},
     "output_type": "execute_result"
    }
   ],
   "source": [
    "v"
   ]
  },
  {
   "cell_type": "code",
   "execution_count": 106,
   "id": "8e784fc0-c956-4f9d-9b19-7ea956ee60c1",
   "metadata": {},
   "outputs": [
    {
     "data": {
      "text/plain": [
       "array([1, 2, 6, 8, 9])"
      ]
     },
     "execution_count": 106,
     "metadata": {},
     "output_type": "execute_result"
    }
   ],
   "source": [
    "np.sort(v)"
   ]
  },
  {
   "cell_type": "code",
   "execution_count": 107,
   "id": "7714b015-82e4-4ffa-8823-73bb02263f86",
   "metadata": {},
   "outputs": [],
   "source": [
    "v.sort()"
   ]
  },
  {
   "cell_type": "code",
   "execution_count": 108,
   "id": "ef1d7451-f1c5-4545-8d20-ffe06a099c45",
   "metadata": {},
   "outputs": [
    {
     "data": {
      "text/plain": [
       "array([1, 2, 6, 8, 9])"
      ]
     },
     "execution_count": 108,
     "metadata": {},
     "output_type": "execute_result"
    }
   ],
   "source": [
    "v"
   ]
  },
  {
   "cell_type": "code",
   "execution_count": 109,
   "id": "b5562315-ef96-480e-a247-aa34f828b853",
   "metadata": {},
   "outputs": [],
   "source": [
    "#iki bouytlu array siralama"
   ]
  },
  {
   "cell_type": "code",
   "execution_count": 113,
   "id": "1359ba47-b80a-4517-b936-274cffbb5373",
   "metadata": {},
   "outputs": [
    {
     "data": {
      "text/plain": [
       "array([[23.95654077, 24.27069247, 23.60330023],\n",
       "       [26.76870429, 14.12337364, 19.49625163],\n",
       "       [17.28296805, 21.55224031, 29.07269131]])"
      ]
     },
     "execution_count": 113,
     "metadata": {},
     "output_type": "execute_result"
    }
   ],
   "source": [
    "np.random.normal(20,5, (3,3)) # oratalama 20, satandart sapma = 5  3X3 matris"
   ]
  },
  {
   "cell_type": "code",
   "execution_count": 120,
   "id": "a61e94fc-558f-4911-9e92-fd15dc360f91",
   "metadata": {},
   "outputs": [],
   "source": [
    "m = np.random.normal(20,5, (3,3)) # oratalama 20, satandart sapma = 5  3X3 matrisa "
   ]
  },
  {
   "cell_type": "code",
   "execution_count": 125,
   "id": "0681d395-4d6e-4e86-a492-28d564377de5",
   "metadata": {},
   "outputs": [
    {
     "data": {
      "text/plain": [
       "array([[19.36149995, 20.18968111, 13.93750961],\n",
       "       [24.26251149, 21.34175156, 17.18842985],\n",
       "       [17.71963734, 21.73327628, 19.38814291]])"
      ]
     },
     "execution_count": 125,
     "metadata": {},
     "output_type": "execute_result"
    }
   ],
   "source": [
    "m"
   ]
  },
  {
   "cell_type": "code",
   "execution_count": null,
   "id": "f1471bc9-19bb-42e6-9356-5414922e6556",
   "metadata": {},
   "outputs": [],
   "source": []
  },
  {
   "cell_type": "code",
   "execution_count": 128,
   "id": "feda9b07-0f89-4ec4-836a-71edc1229995",
   "metadata": {},
   "outputs": [
    {
     "data": {
      "text/plain": [
       "array([[13.93750961, 19.36149995, 20.18968111],\n",
       "       [17.18842985, 21.34175156, 24.26251149],\n",
       "       [17.71963734, 19.38814291, 21.73327628]])"
      ]
     },
     "execution_count": 128,
     "metadata": {},
     "output_type": "execute_result"
    }
   ],
   "source": [
    "np.sort(m, axis = 1) #satirlari sıralar"
   ]
  },
  {
   "cell_type": "code",
   "execution_count": 129,
   "id": "3fbd7577-3fc0-4d73-961c-ce506d9a1fc6",
   "metadata": {},
   "outputs": [
    {
     "data": {
      "text/plain": [
       "array([[17.71963734, 20.18968111, 13.93750961],\n",
       "       [19.36149995, 21.34175156, 17.18842985],\n",
       "       [24.26251149, 21.73327628, 19.38814291]])"
      ]
     },
     "execution_count": 129,
     "metadata": {},
     "output_type": "execute_result"
    }
   ],
   "source": [
    "np.sort(m, axis = 0) # sutunları siralar"
   ]
  },
  {
   "cell_type": "code",
   "execution_count": 131,
   "id": "e459b2e4-7743-46e5-8ebb-b09dbc9c7a30",
   "metadata": {},
   "outputs": [
    {
     "data": {
      "text/plain": [
       "array([ 5, 10, 35])"
      ]
     },
     "execution_count": 131,
     "metadata": {},
     "output_type": "execute_result"
    }
   ],
   "source": [
    "5*np.array([1,2,7])"
   ]
  },
  {
   "cell_type": "code",
   "execution_count": 144,
   "id": "2c5ce5bb-0453-4fe8-ac9e-37629e3b691b",
   "metadata": {},
   "outputs": [
    {
     "data": {
      "text/plain": [
       "array([[9, 7, 9, 9, 6, 9, 2, 5],\n",
       "       [2, 2, 1, 3, 1, 8, 7, 5],\n",
       "       [4, 6, 5, 4, 9, 3, 4, 3],\n",
       "       [1, 3, 3, 5, 4, 0, 1, 4]])"
      ]
     },
     "execution_count": 144,
     "metadata": {},
     "output_type": "execute_result"
    }
   ],
   "source": [
    "np.random.randint(10, size = (4,8))  "
   ]
  },
  {
   "cell_type": "code",
   "execution_count": 146,
   "id": "9698bb26-8f85-433e-a633-ed9ec3dd022c",
   "metadata": {},
   "outputs": [
    {
     "data": {
      "text/plain": [
       "array([[[9, 8, 0],\n",
       "        [1, 8, 0],\n",
       "        [0, 0, 6],\n",
       "        [3, 5, 2],\n",
       "        [0, 4, 7],\n",
       "        [2, 4, 1],\n",
       "        [2, 3, 3],\n",
       "        [7, 8, 6]],\n",
       "\n",
       "       [[0, 6, 1],\n",
       "        [7, 2, 8],\n",
       "        [2, 6, 8],\n",
       "        [5, 7, 9],\n",
       "        [2, 3, 5],\n",
       "        [2, 2, 6],\n",
       "        [9, 3, 6],\n",
       "        [5, 8, 4]],\n",
       "\n",
       "       [[5, 4, 5],\n",
       "        [9, 0, 7],\n",
       "        [2, 7, 6],\n",
       "        [3, 7, 3],\n",
       "        [9, 2, 4],\n",
       "        [1, 6, 7],\n",
       "        [1, 5, 2],\n",
       "        [6, 5, 7]],\n",
       "\n",
       "       [[4, 2, 3],\n",
       "        [4, 8, 0],\n",
       "        [8, 3, 4],\n",
       "        [2, 8, 2],\n",
       "        [0, 5, 8],\n",
       "        [3, 6, 0],\n",
       "        [7, 7, 1],\n",
       "        [6, 7, 6]]])"
      ]
     },
     "execution_count": 146,
     "metadata": {},
     "output_type": "execute_result"
    }
   ],
   "source": [
    "np.random.randint(10, size = (4,8,3))  "
   ]
  },
  {
   "cell_type": "markdown",
   "id": "1083be75-289b-4f80-850c-22204c08cdcc",
   "metadata": {},
   "source": [
    "# Index ile Elemanlara Erişmek"
   ]
  },
  {
   "cell_type": "code",
   "execution_count": 2,
   "id": "6243ffd6-c29d-4442-8f17-067941f04c4e",
   "metadata": {},
   "outputs": [
    {
     "data": {
      "text/plain": [
       "array([0, 8, 1, 8, 4, 8, 5, 6, 2, 4])"
      ]
     },
     "execution_count": 2,
     "metadata": {},
     "output_type": "execute_result"
    }
   ],
   "source": [
    "import numpy as np\n",
    "a = np.random.randint(10, size = 10)\n",
    "a"
   ]
  },
  {
   "cell_type": "code",
   "execution_count": 3,
   "id": "1b9827c1-0ed7-48af-94d0-6d49aa63986d",
   "metadata": {},
   "outputs": [
    {
     "data": {
      "text/plain": [
       "0"
      ]
     },
     "execution_count": 3,
     "metadata": {},
     "output_type": "execute_result"
    }
   ],
   "source": [
    "a[0]"
   ]
  },
  {
   "cell_type": "code",
   "execution_count": 4,
   "id": "f1b22060-5c66-4610-8b62-e5d9764a9cf7",
   "metadata": {},
   "outputs": [
    {
     "data": {
      "text/plain": [
       "4"
      ]
     },
     "execution_count": 4,
     "metadata": {},
     "output_type": "execute_result"
    }
   ],
   "source": [
    "a[-1]  #tersten elemana erismek"
   ]
  },
  {
   "cell_type": "code",
   "execution_count": 7,
   "id": "d601f7d1-778d-4dbc-8aba-c48ed4d1b6fa",
   "metadata": {},
   "outputs": [],
   "source": [
    "a[0] = 100   #ilk index'e eleman etama"
   ]
  },
  {
   "cell_type": "code",
   "execution_count": 8,
   "id": "ea14695d-a523-4135-a3fc-3b4ad6d96324",
   "metadata": {},
   "outputs": [
    {
     "data": {
      "text/plain": [
       "array([100,   8,   1,   8,   4,   8,   5,   6,   2,   4])"
      ]
     },
     "execution_count": 8,
     "metadata": {},
     "output_type": "execute_result"
    }
   ],
   "source": [
    "a"
   ]
  },
  {
   "cell_type": "code",
   "execution_count": 9,
   "id": "178207fb-e8c6-4ec9-ac3f-0dcec5306ce6",
   "metadata": {},
   "outputs": [
    {
     "data": {
      "text/plain": [
       "array([[6, 1, 5, 8, 7],\n",
       "       [7, 7, 9, 9, 3],\n",
       "       [4, 1, 8, 3, 2]])"
      ]
     },
     "execution_count": 9,
     "metadata": {},
     "output_type": "execute_result"
    }
   ],
   "source": [
    "m = np.random.randint(10, size = (3,5))\n",
    "m"
   ]
  },
  {
   "cell_type": "code",
   "execution_count": 12,
   "id": "a10f8dfa-cc95-4b15-873e-15e01f429c7e",
   "metadata": {},
   "outputs": [
    {
     "data": {
      "text/plain": [
       "6"
      ]
     },
     "execution_count": 12,
     "metadata": {},
     "output_type": "execute_result"
    }
   ],
   "source": [
    "m[0,0]  #sifirinci satir, birinci sutun"
   ]
  },
  {
   "cell_type": "code",
   "execution_count": 13,
   "id": "9acf6877-e8de-44d7-98a7-c3f103105126",
   "metadata": {},
   "outputs": [
    {
     "data": {
      "text/plain": [
       "7"
      ]
     },
     "execution_count": 13,
     "metadata": {},
     "output_type": "execute_result"
    }
   ],
   "source": [
    "m[1,1] #birinci satir, birinci sutun"
   ]
  },
  {
   "cell_type": "code",
   "execution_count": 14,
   "id": "9da089b5-6b4c-4ed6-80d8-f0dbbe860eb9",
   "metadata": {},
   "outputs": [
    {
     "data": {
      "text/plain": [
       "3"
      ]
     },
     "execution_count": 14,
     "metadata": {},
     "output_type": "execute_result"
    }
   ],
   "source": [
    "m[1, 4] # birinci satir, dorduncu sutun"
   ]
  },
  {
   "cell_type": "code",
   "execution_count": 15,
   "id": "4574ba4b-6a13-49d2-af24-5d7ea4cf8f6d",
   "metadata": {},
   "outputs": [],
   "source": [
    "m[1,4] = 99 # birinci satir, dorduncu sutun elemanina 99 degerini atama"
   ]
  },
  {
   "cell_type": "code",
   "execution_count": 16,
   "id": "b09bfd60-a87a-401d-897e-1bfca20c2e02",
   "metadata": {},
   "outputs": [
    {
     "data": {
      "text/plain": [
       "array([[ 6,  1,  5,  8,  7],\n",
       "       [ 7,  7,  9,  9, 99],\n",
       "       [ 4,  1,  8,  3,  2]])"
      ]
     },
     "execution_count": 16,
     "metadata": {},
     "output_type": "execute_result"
    }
   ],
   "source": [
    "m"
   ]
  },
  {
   "cell_type": "code",
   "execution_count": 19,
   "id": "11e0f071-ab70-4f20-a5f1-80256215c0da",
   "metadata": {},
   "outputs": [],
   "source": [
    "m[1,3] = 2.2 # birinci satir, dorduncu sutun elemanina 2.2 degerini atama, ondalikli olarak deger atamasi kabul edilmeyecek"
   ]
  },
  {
   "cell_type": "code",
   "execution_count": 20,
   "id": "a2bf75e2-fa0c-460b-8f3a-325dca31dec9",
   "metadata": {},
   "outputs": [
    {
     "data": {
      "text/plain": [
       "array([[ 6,  1,  5,  8,  7],\n",
       "       [ 7,  7,  9,  2, 99],\n",
       "       [ 4,  1,  8,  3,  2]])"
      ]
     },
     "execution_count": 20,
     "metadata": {},
     "output_type": "execute_result"
    }
   ],
   "source": [
    "m"
   ]
  },
  {
   "cell_type": "markdown",
   "id": "924a8887-9ada-4930-8aa5-816d354d5b9e",
   "metadata": {},
   "source": [
    "# Slicing ile Elemanlara Erişmek (Array Alt Kümeine Erişmek) "
   ]
  },
  {
   "cell_type": "code",
   "execution_count": 21,
   "id": "5567e102-7409-4a2f-bd51-2690d3b6a47b",
   "metadata": {},
   "outputs": [],
   "source": [
    "import numpy as np"
   ]
  },
  {
   "cell_type": "code",
   "execution_count": 22,
   "id": "0e85b086-4a34-4fa1-9b08-2b9dc6783371",
   "metadata": {},
   "outputs": [
    {
     "data": {
      "text/plain": [
       "array([20, 21, 22, 23, 24, 25, 26, 27, 28, 29])"
      ]
     },
     "execution_count": 22,
     "metadata": {},
     "output_type": "execute_result"
    }
   ],
   "source": [
    "a = np.arange(20,30) # tek boyutlu bir array\n",
    "a"
   ]
  },
  {
   "cell_type": "code",
   "execution_count": 24,
   "id": "fa8db6ea-ac3c-4f21-8732-7ac59254aa13",
   "metadata": {},
   "outputs": [
    {
     "data": {
      "text/plain": [
       "array([20, 21, 22])"
      ]
     },
     "execution_count": 24,
     "metadata": {},
     "output_type": "execute_result"
    }
   ],
   "source": [
    "a[0:3]  # silicing islemi (:) araya birakarak bir cesit dilimleme, ayirma islemidir, su elemandan su elemana kadar git demek , aralikli secme"
   ]
  },
  {
   "cell_type": "code",
   "execution_count": 26,
   "id": "41a8daa9-12fd-4de8-b0f6-b321fada4274",
   "metadata": {},
   "outputs": [
    {
     "data": {
      "text/plain": [
       "array([20, 21, 22])"
      ]
     },
     "execution_count": 26,
     "metadata": {},
     "output_type": "execute_result"
    }
   ],
   "source": [
    "a[:3]"
   ]
  },
  {
   "cell_type": "code",
   "execution_count": 28,
   "id": "f0ddc977-172b-43c0-a32d-1c97248db5c6",
   "metadata": {},
   "outputs": [
    {
     "data": {
      "text/plain": [
       "array([23, 24, 25, 26, 27, 28, 29])"
      ]
     },
     "execution_count": 28,
     "metadata": {},
     "output_type": "execute_result"
    }
   ],
   "source": [
    "a[3:]"
   ]
  },
  {
   "cell_type": "code",
   "execution_count": 30,
   "id": "c52df194-6ea6-4ebd-9f92-6e0916f04b6d",
   "metadata": {},
   "outputs": [
    {
     "data": {
      "text/plain": [
       "array([21, 23, 25, 27, 29])"
      ]
     },
     "execution_count": 30,
     "metadata": {},
     "output_type": "execute_result"
    }
   ],
   "source": [
    "a[1::2]  # ikiser ikiser olarak git "
   ]
  },
  {
   "cell_type": "code",
   "execution_count": 31,
   "id": "87b6f975-77c4-40c8-9b1e-0f781c3c5fdb",
   "metadata": {},
   "outputs": [
    {
     "data": {
      "text/plain": [
       "array([20, 22, 24, 26, 28])"
      ]
     },
     "execution_count": 31,
     "metadata": {},
     "output_type": "execute_result"
    }
   ],
   "source": [
    "a[0::2]"
   ]
  },
  {
   "cell_type": "code",
   "execution_count": 34,
   "id": "91977e73-4369-43a4-bf57-f0f99643d73e",
   "metadata": {},
   "outputs": [
    {
     "data": {
      "text/plain": [
       "array([20, 22, 24, 26, 28])"
      ]
     },
     "execution_count": 34,
     "metadata": {},
     "output_type": "execute_result"
    }
   ],
   "source": [
    "a[0::2]"
   ]
  },
  {
   "cell_type": "code",
   "execution_count": 36,
   "id": "a5ded173-cb34-4df1-93a2-b6d9e5bbb02f",
   "metadata": {},
   "outputs": [
    {
     "data": {
      "text/plain": [
       "array([22, 24, 26, 28])"
      ]
     },
     "execution_count": 36,
     "metadata": {},
     "output_type": "execute_result"
    }
   ],
   "source": [
    "a[2::2]"
   ]
  },
  {
   "cell_type": "code",
   "execution_count": 37,
   "id": "5d29abbf-dd7a-416e-a764-94901c3bc1f4",
   "metadata": {},
   "outputs": [
    {
     "data": {
      "text/plain": [
       "array([20, 23, 26, 29])"
      ]
     },
     "execution_count": 37,
     "metadata": {},
     "output_type": "execute_result"
    }
   ],
   "source": [
    "a[0::3] # # sifirinci index'ten 3'er 3'er ilerle"
   ]
  },
  {
   "cell_type": "code",
   "execution_count": 38,
   "id": "cec104db-4ce6-4fbd-870f-3ac44aff5049",
   "metadata": {},
   "outputs": [],
   "source": [
    "#iki boyutlu slice islemleri"
   ]
  },
  {
   "cell_type": "code",
   "execution_count": 41,
   "id": "6797a45f-bb5a-4fa2-a1e7-e04f7998b4e3",
   "metadata": {},
   "outputs": [],
   "source": [
    "m = np.random.randint(10, size = (5,5))  # boyut 5X5 bir matris olusturulur"
   ]
  },
  {
   "cell_type": "code",
   "execution_count": 42,
   "id": "b22a6c4a-d5f2-4f8d-9a6b-25976406b110",
   "metadata": {},
   "outputs": [
    {
     "data": {
      "text/plain": [
       "array([[3, 7, 2, 5, 6],\n",
       "       [9, 0, 2, 0, 3],\n",
       "       [8, 7, 5, 7, 8],\n",
       "       [8, 7, 9, 7, 7],\n",
       "       [3, 3, 0, 9, 8]])"
      ]
     },
     "execution_count": 42,
     "metadata": {},
     "output_type": "execute_result"
    }
   ],
   "source": [
    "m"
   ]
  },
  {
   "cell_type": "code",
   "execution_count": 43,
   "id": "11b0c9c4-a623-4fff-88f8-4f29766031e7",
   "metadata": {},
   "outputs": [
    {
     "data": {
      "text/plain": [
       "array([3, 9, 8, 8, 3])"
      ]
     },
     "execution_count": 43,
     "metadata": {},
     "output_type": "execute_result"
    }
   ],
   "source": [
    "m[:,0]  # tum satirlari sec (:) , 0 inci sutundaki"
   ]
  },
  {
   "cell_type": "code",
   "execution_count": 44,
   "id": "9018579b-383e-42af-aa2d-f51c86a7ea4e",
   "metadata": {},
   "outputs": [
    {
     "data": {
      "text/plain": [
       "array([7, 0, 7, 7, 3])"
      ]
     },
     "execution_count": 44,
     "metadata": {},
     "output_type": "execute_result"
    }
   ],
   "source": [
    "m[:,1]  # tum satirlari sec (:) , 1 inci sutundaki"
   ]
  },
  {
   "cell_type": "code",
   "execution_count": 46,
   "id": "5168595a-7074-4319-9eb0-aba7bce9965b",
   "metadata": {},
   "outputs": [
    {
     "data": {
      "text/plain": [
       "array([6, 3, 8, 7, 8])"
      ]
     },
     "execution_count": 46,
     "metadata": {},
     "output_type": "execute_result"
    }
   ],
   "source": [
    "m[:,4]  # tum satirlari sec(:), 4 uncu index nolu stundaki elemanlar"
   ]
  },
  {
   "cell_type": "code",
   "execution_count": 48,
   "id": "86f1ca81-ac2b-4f61-a161-da53cabef9a6",
   "metadata": {},
   "outputs": [
    {
     "data": {
      "text/plain": [
       "array([3, 7, 2, 5, 6])"
      ]
     },
     "execution_count": 48,
     "metadata": {},
     "output_type": "execute_result"
    }
   ],
   "source": [
    "m[0,:] # sifirinci satirdaki tum sutunlar"
   ]
  },
  {
   "cell_type": "code",
   "execution_count": 49,
   "id": "9d8b89fa-9ad2-4fd0-bb89-4309fc2cd410",
   "metadata": {},
   "outputs": [
    {
     "data": {
      "text/plain": [
       "array([9, 0, 2, 0, 3])"
      ]
     },
     "execution_count": 49,
     "metadata": {},
     "output_type": "execute_result"
    }
   ],
   "source": [
    "m[1,:] # birinci satirdaki tum sutunlar"
   ]
  },
  {
   "cell_type": "code",
   "execution_count": 50,
   "id": "bfb6f6fc-dba8-4e0a-90a6-c88b93c491f7",
   "metadata": {},
   "outputs": [
    {
     "data": {
      "text/plain": [
       "array([[3, 7, 2],\n",
       "       [9, 0, 2]])"
      ]
     },
     "execution_count": 50,
     "metadata": {},
     "output_type": "execute_result"
    }
   ],
   "source": [
    "m[0:2, 0:3]  # sifirdan 2'ye kadar tum satirlar ve sifirdan 3'e kadar tum sutunlari al"
   ]
  },
  {
   "cell_type": "code",
   "execution_count": 53,
   "id": "03d4987b-b7fa-4f81-ae83-01b408ba8d6f",
   "metadata": {},
   "outputs": [
    {
     "data": {
      "text/plain": [
       "array([[3, 7, 2],\n",
       "       [9, 0, 2],\n",
       "       [8, 7, 5]])"
      ]
     },
     "execution_count": 53,
     "metadata": {},
     "output_type": "execute_result"
    }
   ],
   "source": [
    "m[0:3, 0:3]  # sifirdan 3'e kadar tum satirlar ve sifirdan 3'e kadar tum sutunlari al"
   ]
  },
  {
   "cell_type": "code",
   "execution_count": 54,
   "id": "1148d128-1908-4ddb-a34a-5db623b135bd",
   "metadata": {},
   "outputs": [
    {
     "data": {
      "text/plain": [
       "array([[3, 7],\n",
       "       [9, 0],\n",
       "       [8, 7],\n",
       "       [8, 7],\n",
       "       [3, 3]])"
      ]
     },
     "execution_count": 54,
     "metadata": {},
     "output_type": "execute_result"
    }
   ],
   "source": [
    "m[:,:2] # tum satirlar ve 2. index'e kadar  olan tum sutunlar"
   ]
  },
  {
   "cell_type": "code",
   "execution_count": 55,
   "id": "b2148e56-8e7f-4565-be1c-bae6a9287df1",
   "metadata": {},
   "outputs": [
    {
     "data": {
      "text/plain": [
       "array([[3, 7],\n",
       "       [9, 0],\n",
       "       [8, 7],\n",
       "       [8, 7],\n",
       "       [3, 3]])"
      ]
     },
     "execution_count": 55,
     "metadata": {},
     "output_type": "execute_result"
    }
   ],
   "source": [
    "m[:,0:2] # tum satirlar ve 2. index'e kadar  olan tum sutunlar, ustteki satirla ayni isi gorur, "
   ]
  },
  {
   "cell_type": "code",
   "execution_count": 57,
   "id": "9182c9ad-a872-46ad-b8a8-0f708ed28c3d",
   "metadata": {},
   "outputs": [
    {
     "data": {
      "text/plain": [
       "array([[3, 7, 2, 5, 6],\n",
       "       [9, 0, 2, 0, 3],\n",
       "       [8, 7, 5, 7, 8],\n",
       "       [8, 7, 9, 7, 7],\n",
       "       [3, 3, 0, 9, 8]])"
      ]
     },
     "execution_count": 57,
     "metadata": {},
     "output_type": "execute_result"
    }
   ],
   "source": [
    "m  # tum satir ve sutunlar"
   ]
  },
  {
   "cell_type": "markdown",
   "id": "682853be-f1e1-45b6-b5fb-dcaea137584c",
   "metadata": {},
   "source": [
    "# Alt Kume Üzerinde İşlem Yapmak (operate on a subset)"
   ]
  },
  {
   "cell_type": "code",
   "execution_count": 199,
   "id": "887d8124-193f-4d7e-87d4-2958c4319e20",
   "metadata": {},
   "outputs": [
    {
     "data": {
      "text/plain": [
       "array([[0, 2, 1, 8, 0],\n",
       "       [5, 9, 9, 4, 3],\n",
       "       [1, 8, 5, 4, 9],\n",
       "       [2, 0, 7, 7, 4],\n",
       "       [5, 9, 8, 1, 1]])"
      ]
     },
     "execution_count": 199,
     "metadata": {},
     "output_type": "execute_result"
    }
   ],
   "source": [
    "import numpy as np\n",
    "a = np.random.randint(10, size = (5,5))\n",
    "a"
   ]
  },
  {
   "cell_type": "code",
   "execution_count": 59,
   "id": "740d81ef-65e5-4489-a9be-07520fd55cd8",
   "metadata": {},
   "outputs": [
    {
     "data": {
      "text/plain": [
       "array([[6, 8],\n",
       "       [5, 2],\n",
       "       [6, 0]])"
      ]
     },
     "execution_count": 59,
     "metadata": {},
     "output_type": "execute_result"
    }
   ],
   "source": [
    "alt_a = a[0:3, 0:2]     # alt kume\n",
    "alt_a"
   ]
  },
  {
   "cell_type": "code",
   "execution_count": 62,
   "id": "58cfd878-906e-4254-931f-fe7ddc4f3697",
   "metadata": {},
   "outputs": [],
   "source": [
    "alt_a[0,0] = 9999    # bu tarz atamalar ana kumeyi etkiler, bunu etkilememesi icin coppy() kullanip, bagimzis alt kume olusturmali\n",
    "alt_a[1,1] = 888"
   ]
  },
  {
   "cell_type": "code",
   "execution_count": 63,
   "id": "c94aae83-f75c-4cda-9027-b0d09fb3969e",
   "metadata": {},
   "outputs": [
    {
     "data": {
      "text/plain": [
       "array([[9999,    8],\n",
       "       [   5,  888],\n",
       "       [   6,    0]])"
      ]
     },
     "execution_count": 63,
     "metadata": {},
     "output_type": "execute_result"
    }
   ],
   "source": [
    "alt_a"
   ]
  },
  {
   "cell_type": "code",
   "execution_count": 69,
   "id": "c97fa6c8-346c-4a6c-9da1-c80e01913ce8",
   "metadata": {},
   "outputs": [
    {
     "data": {
      "text/plain": [
       "array([[9999,    8],\n",
       "       [   5,  888],\n",
       "       [   6,    0]])"
      ]
     },
     "execution_count": 69,
     "metadata": {},
     "output_type": "execute_result"
    }
   ],
   "source": [
    "alt_b = a[0:3, 0:2].copy()  # copy() ile ana kumeden bagimsiz bir alt kume olusturup uzerinde calismak gerekir\n",
    "alt_b"
   ]
  },
  {
   "cell_type": "code",
   "execution_count": 66,
   "id": "78725718-02d6-474b-87b8-ec85c459f14f",
   "metadata": {},
   "outputs": [
    {
     "data": {
      "text/plain": [
       "array([[1111,    8],\n",
       "       [   5, 2222],\n",
       "       [   6,    0]])"
      ]
     },
     "execution_count": 66,
     "metadata": {},
     "output_type": "execute_result"
    }
   ],
   "source": [
    "alt_b[0,0] = 1111\n",
    "alt_b[1,1] = 2222\n",
    "alt_b"
   ]
  },
  {
   "cell_type": "code",
   "execution_count": 200,
   "id": "a3404202-f9dd-4066-b9bc-f1c634dd4db5",
   "metadata": {},
   "outputs": [
    {
     "data": {
      "text/plain": [
       "array([[0, 2, 1, 8, 0],\n",
       "       [5, 9, 9, 4, 3],\n",
       "       [1, 8, 5, 4, 9],\n",
       "       [2, 0, 7, 7, 4],\n",
       "       [5, 9, 8, 1, 1]])"
      ]
     },
     "execution_count": 200,
     "metadata": {},
     "output_type": "execute_result"
    }
   ],
   "source": [
    "a"
   ]
  },
  {
   "cell_type": "code",
   "execution_count": 209,
   "id": "de66d834-b767-4cab-9b7d-45281870e224",
   "metadata": {},
   "outputs": [
    {
     "data": {
      "text/plain": [
       "array([[2, 1, 8],\n",
       "       [9, 9, 4],\n",
       "       [8, 5, 4],\n",
       "       [0, 7, 7],\n",
       "       [9, 8, 1]])"
      ]
     },
     "execution_count": 209,
     "metadata": {},
     "output_type": "execute_result"
    }
   ],
   "source": [
    "a[0:,[1,2,3]]"
   ]
  },
  {
   "cell_type": "code",
   "execution_count": 210,
   "id": "e8d16463-3580-4766-87b9-63f3f6193fa6",
   "metadata": {},
   "outputs": [
    {
     "data": {
      "text/plain": [
       "array([2, 1, 8])"
      ]
     },
     "execution_count": 210,
     "metadata": {},
     "output_type": "execute_result"
    }
   ],
   "source": [
    "a[0,[1,2,3]]"
   ]
  },
  {
   "cell_type": "markdown",
   "id": "2ea9ed56-c458-4ab2-b3d8-11a584de62ce",
   "metadata": {},
   "source": [
    "# Fancy Index ile Elemanlara Erişmek\n",
    "### Fancy (büyüleyici, Fantastik) pandas ve numpy arraylerinde daha ileri düzeyde eleman seçmede bize yardımcı olacak\n",
    "### en önemli kavramdır"
   ]
  },
  {
   "cell_type": "code",
   "execution_count": null,
   "id": "8f976f4d-a6c3-422e-ac8e-a8dd860c62a1",
   "metadata": {},
   "outputs": [],
   "source": []
  },
  {
   "cell_type": "code",
   "execution_count": 71,
   "id": "43609bb2-ea7c-4a8f-b6a6-651c70f231c9",
   "metadata": {},
   "outputs": [
    {
     "data": {
      "text/plain": [
       "array([ 0,  3,  6,  9, 12, 15, 18, 21, 24, 27])"
      ]
     },
     "execution_count": 71,
     "metadata": {},
     "output_type": "execute_result"
    }
   ],
   "source": [
    "import numpy as np\n",
    "v = np.arange(0, 30, 3)\n",
    "v"
   ]
  },
  {
   "cell_type": "code",
   "execution_count": 72,
   "id": "c1decbad-93ef-4d07-a2bc-e81bc6aeb12b",
   "metadata": {},
   "outputs": [
    {
     "data": {
      "text/plain": [
       "3"
      ]
     },
     "execution_count": 72,
     "metadata": {},
     "output_type": "execute_result"
    }
   ],
   "source": [
    "v[1]"
   ]
  },
  {
   "cell_type": "code",
   "execution_count": 73,
   "id": "e47c469c-7edc-4017-a348-25e4e9fe4eff",
   "metadata": {},
   "outputs": [
    {
     "data": {
      "text/plain": [
       "9"
      ]
     },
     "execution_count": 73,
     "metadata": {},
     "output_type": "execute_result"
    }
   ],
   "source": [
    "v[3]"
   ]
  },
  {
   "cell_type": "code",
   "execution_count": 75,
   "id": "36291c43-ed9e-4f4a-836c-52108b99be52",
   "metadata": {},
   "outputs": [
    {
     "data": {
      "text/plain": [
       "[3, 9, 15]"
      ]
     },
     "execution_count": 75,
     "metadata": {},
     "output_type": "execute_result"
    }
   ],
   "source": [
    "[v[1], v[3], v[5]]"
   ]
  },
  {
   "cell_type": "code",
   "execution_count": 76,
   "id": "325f3ea4-efce-4ce9-a3db-0636a0cf0757",
   "metadata": {},
   "outputs": [],
   "source": [
    "al_getir = [1,3,5]"
   ]
  },
  {
   "cell_type": "code",
   "execution_count": 77,
   "id": "c82f6d8f-db14-4d71-9a83-e256419cf9e6",
   "metadata": {},
   "outputs": [
    {
     "data": {
      "text/plain": [
       "array([ 0,  3,  6,  9, 12, 15, 18, 21, 24, 27])"
      ]
     },
     "execution_count": 77,
     "metadata": {},
     "output_type": "execute_result"
    }
   ],
   "source": [
    "v"
   ]
  },
  {
   "cell_type": "code",
   "execution_count": 80,
   "id": "d1ec2f67-b502-472f-9c4b-29b8b87d798b",
   "metadata": {},
   "outputs": [
    {
     "data": {
      "text/plain": [
       "array([ 3,  9, 15])"
      ]
     },
     "execution_count": 80,
     "metadata": {},
     "output_type": "execute_result"
    }
   ],
   "source": [
    "v[al_getir]  # fancy index ile gerceklesti, kozeli oparantez kullanilir"
   ]
  },
  {
   "cell_type": "code",
   "execution_count": 81,
   "id": "07d6e65c-7c90-4eae-926b-54fbf7fb91d0",
   "metadata": {},
   "outputs": [],
   "source": [
    "#iki boyutta fancy"
   ]
  },
  {
   "cell_type": "code",
   "execution_count": 82,
   "id": "09b276b0-c322-451b-aa10-bbbe7852e339",
   "metadata": {},
   "outputs": [],
   "source": [
    "m = np.arange(9).reshape((3,3))"
   ]
  },
  {
   "cell_type": "code",
   "execution_count": 83,
   "id": "41c49a6f-764e-45d4-bf46-89f9e94044dc",
   "metadata": {},
   "outputs": [
    {
     "data": {
      "text/plain": [
       "array([[0, 1, 2],\n",
       "       [3, 4, 5],\n",
       "       [6, 7, 8]])"
      ]
     },
     "execution_count": 83,
     "metadata": {},
     "output_type": "execute_result"
    }
   ],
   "source": [
    "m"
   ]
  },
  {
   "cell_type": "code",
   "execution_count": 87,
   "id": "e996dab0-eded-4471-ad3c-65b42ddf3501",
   "metadata": {},
   "outputs": [],
   "source": [
    "satir = np.array([0,1])\n",
    "sutun = np.array([1,2])"
   ]
  },
  {
   "cell_type": "code",
   "execution_count": 88,
   "id": "f3fd991b-daa7-4901-bec0-56282378704f",
   "metadata": {},
   "outputs": [
    {
     "data": {
      "text/plain": [
       "array([1, 5])"
      ]
     },
     "execution_count": 88,
     "metadata": {},
     "output_type": "execute_result"
    }
   ],
   "source": [
    "m[satir,sutun]"
   ]
  },
  {
   "cell_type": "code",
   "execution_count": 89,
   "id": "ee69c9c7-33db-489c-945a-ae86214697ae",
   "metadata": {},
   "outputs": [],
   "source": [
    "#basit index ile fancy index"
   ]
  },
  {
   "cell_type": "code",
   "execution_count": 90,
   "id": "68689e2f-ddfb-4be9-9371-17b8587a5b19",
   "metadata": {},
   "outputs": [
    {
     "data": {
      "text/plain": [
       "array([[0, 1, 2],\n",
       "       [3, 4, 5],\n",
       "       [6, 7, 8]])"
      ]
     },
     "execution_count": 90,
     "metadata": {},
     "output_type": "execute_result"
    }
   ],
   "source": [
    "m"
   ]
  },
  {
   "cell_type": "code",
   "execution_count": 92,
   "id": "85eaffa2-4e1a-454c-b5a1-ca96057dbd8b",
   "metadata": {},
   "outputs": [
    {
     "data": {
      "text/plain": [
       "array([1, 2])"
      ]
     },
     "execution_count": 92,
     "metadata": {},
     "output_type": "execute_result"
    }
   ],
   "source": [
    "m[0, [1,2]]   # klasik index"
   ]
  },
  {
   "cell_type": "code",
   "execution_count": 95,
   "id": "188c2d73-c4d6-437a-80b4-ab7198a0e4cc",
   "metadata": {},
   "outputs": [],
   "source": [
    "#slice ile fancy"
   ]
  },
  {
   "cell_type": "code",
   "execution_count": 96,
   "id": "57f80f2e-c01a-4890-8e41-563e5cd5026c",
   "metadata": {},
   "outputs": [
    {
     "data": {
      "text/plain": [
       "array([[1, 2],\n",
       "       [4, 5],\n",
       "       [7, 8]])"
      ]
     },
     "execution_count": 96,
     "metadata": {},
     "output_type": "execute_result"
    }
   ],
   "source": [
    "m[0:, [1,2]]"
   ]
  },
  {
   "cell_type": "code",
   "execution_count": 97,
   "id": "17eabd21-2418-4fe2-ba59-a6c353ab08aa",
   "metadata": {},
   "outputs": [],
   "source": [
    "# Koşullu Eleman İşlemleri"
   ]
  },
  {
   "cell_type": "code",
   "execution_count": 98,
   "id": "3ecff188-4f61-4da1-8449-23905862a932",
   "metadata": {},
   "outputs": [],
   "source": [
    "import numpy as np\n",
    "v = np.array([1,2,3,4,5])"
   ]
  },
  {
   "cell_type": "code",
   "execution_count": 99,
   "id": "75b88420-a2f4-416a-880c-0b36e66d0c19",
   "metadata": {},
   "outputs": [
    {
     "data": {
      "text/plain": [
       "array([False, False, False, False, False])"
      ]
     },
     "execution_count": 99,
     "metadata": {},
     "output_type": "execute_result"
    }
   ],
   "source": [
    "v > 5 "
   ]
  },
  {
   "cell_type": "code",
   "execution_count": 100,
   "id": "af620c75-cd47-4dbb-83c7-785594f79e8f",
   "metadata": {},
   "outputs": [
    {
     "data": {
      "text/plain": [
       "array([ True,  True, False, False, False])"
      ]
     },
     "execution_count": 100,
     "metadata": {},
     "output_type": "execute_result"
    }
   ],
   "source": [
    "v < 3"
   ]
  },
  {
   "cell_type": "code",
   "execution_count": 114,
   "id": "1e28faf8-59a9-462a-b8e3-270090e87fbd",
   "metadata": {},
   "outputs": [
    {
     "data": {
      "text/plain": [
       "array([1, 2])"
      ]
     },
     "execution_count": 114,
     "metadata": {},
     "output_type": "execute_result"
    }
   ],
   "source": [
    "v[v < 3]  # fancy ile sorgu sonucu elde edilen elemenalari getir, fancy arka planda calisir"
   ]
  },
  {
   "cell_type": "code",
   "execution_count": 115,
   "id": "87b5b1ad-6752-414e-967e-c0657a48f894",
   "metadata": {},
   "outputs": [
    {
     "data": {
      "text/plain": [
       "array([4, 5])"
      ]
     },
     "execution_count": 115,
     "metadata": {},
     "output_type": "execute_result"
    }
   ],
   "source": [
    "v[ v > 3]"
   ]
  },
  {
   "cell_type": "code",
   "execution_count": 116,
   "id": "d6ac205b-e515-4feb-80f3-bec99f31d37b",
   "metadata": {},
   "outputs": [
    {
     "data": {
      "text/plain": [
       "array([3, 4, 5])"
      ]
     },
     "execution_count": 116,
     "metadata": {},
     "output_type": "execute_result"
    }
   ],
   "source": [
    "v[ v >= 3]"
   ]
  },
  {
   "cell_type": "code",
   "execution_count": 117,
   "id": "9267e1f3-3764-43fc-856f-9648e2546a0a",
   "metadata": {},
   "outputs": [
    {
     "data": {
      "text/plain": [
       "array([1, 2, 3])"
      ]
     },
     "execution_count": 117,
     "metadata": {},
     "output_type": "execute_result"
    }
   ],
   "source": [
    "v[ v <= 3]"
   ]
  },
  {
   "cell_type": "code",
   "execution_count": 118,
   "id": "579ba946-1a2e-4fbb-97e7-0e25db507d9d",
   "metadata": {},
   "outputs": [
    {
     "data": {
      "text/plain": [
       "array([3])"
      ]
     },
     "execution_count": 118,
     "metadata": {},
     "output_type": "execute_result"
    }
   ],
   "source": [
    "v[ v == 3] # esit olanlari getir"
   ]
  },
  {
   "cell_type": "code",
   "execution_count": 119,
   "id": "b445487a-7406-45e5-8637-0d443d4ce7dd",
   "metadata": {},
   "outputs": [
    {
     "data": {
      "text/plain": [
       "array([1, 2, 4, 5])"
      ]
     },
     "execution_count": 119,
     "metadata": {},
     "output_type": "execute_result"
    }
   ],
   "source": [
    "v[v != 3]  # 3'un disinda kalanlari getir"
   ]
  },
  {
   "cell_type": "code",
   "execution_count": 120,
   "id": "70bcbcc7-497b-4873-98ba-20b2d62f261a",
   "metadata": {},
   "outputs": [
    {
     "data": {
      "text/plain": [
       "array([0.2, 0.4, 0.6, 0.8, 1. ])"
      ]
     },
     "execution_count": 120,
     "metadata": {},
     "output_type": "execute_result"
    }
   ],
   "source": [
    "v / 5"
   ]
  },
  {
   "cell_type": "code",
   "execution_count": 121,
   "id": "a2c2830a-7759-4c2b-bb11-f546b2647a84",
   "metadata": {},
   "outputs": [
    {
     "data": {
      "text/plain": [
       "array([ 5, 10, 15, 20, 25])"
      ]
     },
     "execution_count": 121,
     "metadata": {},
     "output_type": "execute_result"
    }
   ],
   "source": [
    "v * 5"
   ]
  },
  {
   "cell_type": "code",
   "execution_count": 122,
   "id": "14e6643f-98c7-497d-9461-00e86e3b4b87",
   "metadata": {},
   "outputs": [
    {
     "data": {
      "text/plain": [
       "array([0.5, 1. , 1.5, 2. , 2.5])"
      ]
     },
     "execution_count": 122,
     "metadata": {},
     "output_type": "execute_result"
    }
   ],
   "source": [
    "v * 5 / 10"
   ]
  },
  {
   "cell_type": "code",
   "execution_count": 123,
   "id": "95e255dc-4fa6-4888-b23f-cb176f7c234f",
   "metadata": {},
   "outputs": [
    {
     "data": {
      "text/plain": [
       "array([ 1,  4,  9, 16, 25], dtype=int32)"
      ]
     },
     "execution_count": 123,
     "metadata": {},
     "output_type": "execute_result"
    }
   ],
   "source": [
    "v**2 # kare alma islemleri"
   ]
  },
  {
   "cell_type": "code",
   "execution_count": null,
   "id": "0cdd4df4-df16-48d5-9ad7-cb5bc51393fb",
   "metadata": {},
   "outputs": [],
   "source": []
  },
  {
   "cell_type": "markdown",
   "id": "4682d576-50b1-419d-96d2-4278ef5978b8",
   "metadata": {},
   "source": [
    "# Matematiksel İşlemler"
   ]
  },
  {
   "cell_type": "code",
   "execution_count": 128,
   "id": "232ed093-2bc1-4568-80ec-d30d36f8d96b",
   "metadata": {},
   "outputs": [],
   "source": [
    "import numpy as np\n",
    "v = np.array([1,2,3,4,5])"
   ]
  },
  {
   "cell_type": "code",
   "execution_count": 129,
   "id": "26f40d54-8db2-4589-a492-61d899d447b9",
   "metadata": {},
   "outputs": [
    {
     "data": {
      "text/plain": [
       "array([0, 1, 2, 3, 4])"
      ]
     },
     "execution_count": 129,
     "metadata": {},
     "output_type": "execute_result"
    }
   ],
   "source": [
    "v - 1"
   ]
  },
  {
   "cell_type": "code",
   "execution_count": 130,
   "id": "89cec7de-4bcc-4a95-9c82-529ff0e8e335",
   "metadata": {},
   "outputs": [
    {
     "data": {
      "text/plain": [
       "array([ 5, 10, 15, 20, 25])"
      ]
     },
     "execution_count": 130,
     "metadata": {},
     "output_type": "execute_result"
    }
   ],
   "source": [
    "v * 5"
   ]
  },
  {
   "cell_type": "code",
   "execution_count": 131,
   "id": "cfbc5e4b-56ef-478b-a7c1-ed03e2b903a5",
   "metadata": {},
   "outputs": [
    {
     "data": {
      "text/plain": [
       "array([0.2, 0.4, 0.6, 0.8, 1. ])"
      ]
     },
     "execution_count": 131,
     "metadata": {},
     "output_type": "execute_result"
    }
   ],
   "source": [
    "v / 5"
   ]
  },
  {
   "cell_type": "code",
   "execution_count": 132,
   "id": "5dab9f00-0639-4a58-8dcd-5b2390cb7703",
   "metadata": {},
   "outputs": [
    {
     "data": {
      "text/plain": [
       "array([-0.5,  0. ,  0.5,  1. ,  1.5])"
      ]
     },
     "execution_count": 132,
     "metadata": {},
     "output_type": "execute_result"
    }
   ],
   "source": [
    "v*5/10 - 1"
   ]
  },
  {
   "cell_type": "code",
   "execution_count": 133,
   "id": "3a803f08-6e4d-4633-aef0-62b8f94b7623",
   "metadata": {},
   "outputs": [],
   "source": [
    "#ufunc kavrami"
   ]
  },
  {
   "cell_type": "code",
   "execution_count": 135,
   "id": "965c8700-3a7a-463c-abe4-567a323e1b18",
   "metadata": {},
   "outputs": [
    {
     "data": {
      "text/plain": [
       "array([0, 1, 2, 3, 4])"
      ]
     },
     "execution_count": 135,
     "metadata": {},
     "output_type": "execute_result"
    }
   ],
   "source": [
    "np.subtract(v , 1) # tum elemanlardan 1 cikar "
   ]
  },
  {
   "cell_type": "code",
   "execution_count": 136,
   "id": "494e248d-f759-4819-be27-49ce9f29072d",
   "metadata": {},
   "outputs": [
    {
     "data": {
      "text/plain": [
       "array([2, 3, 4, 5, 6])"
      ]
     },
     "execution_count": 136,
     "metadata": {},
     "output_type": "execute_result"
    }
   ],
   "source": [
    "np.add(v, 1) # her bir elemana 1 ekle"
   ]
  },
  {
   "cell_type": "code",
   "execution_count": 138,
   "id": "83a6d488-6480-458c-a0b8-d7137e04ade0",
   "metadata": {},
   "outputs": [
    {
     "data": {
      "text/plain": [
       "array([0.33333333, 0.66666667, 1.        , 1.33333333, 1.66666667])"
      ]
     },
     "execution_count": 138,
     "metadata": {},
     "output_type": "execute_result"
    }
   ],
   "source": [
    "np.divide(v, 3) # her bir elemani bol"
   ]
  },
  {
   "cell_type": "code",
   "execution_count": 139,
   "id": "9a2b1946-ea9e-4ee0-9603-c2268990a28a",
   "metadata": {},
   "outputs": [
    {
     "data": {
      "text/plain": [
       "array([ 1,  4,  9, 16, 25], dtype=int32)"
      ]
     },
     "execution_count": 139,
     "metadata": {},
     "output_type": "execute_result"
    }
   ],
   "source": [
    "v**2"
   ]
  },
  {
   "cell_type": "code",
   "execution_count": 142,
   "id": "b5491b37-edff-464b-9d23-22b627bd784a",
   "metadata": {},
   "outputs": [
    {
     "data": {
      "text/plain": [
       "array([  1,   8,  27,  64, 125], dtype=int32)"
      ]
     },
     "execution_count": 142,
     "metadata": {},
     "output_type": "execute_result"
    }
   ],
   "source": [
    "np.power(v,3) # bir elemamin kuvvetini almak"
   ]
  },
  {
   "cell_type": "code",
   "execution_count": 144,
   "id": "d323d2c9-11a3-4656-a836-6fb7f9512736",
   "metadata": {},
   "outputs": [
    {
     "data": {
      "text/plain": [
       "array([1, 0, 1, 0, 1], dtype=int32)"
      ]
     },
     "execution_count": 144,
     "metadata": {},
     "output_type": "execute_result"
    }
   ],
   "source": [
    "np.mod(v,2) # mod islemi uygulanir, 2'ye bolumunden kalanlar getirilir (v % 2)"
   ]
  },
  {
   "cell_type": "code",
   "execution_count": 146,
   "id": "584dc441-067f-4e07-8d9f-3f82206de47f",
   "metadata": {},
   "outputs": [
    {
     "data": {
      "text/plain": [
       "array([3])"
      ]
     },
     "execution_count": 146,
     "metadata": {},
     "output_type": "execute_result"
    }
   ],
   "source": [
    "np.absolute(np.array([-3])) # mutlak deger almak"
   ]
  },
  {
   "cell_type": "code",
   "execution_count": 148,
   "id": "45d290d0-e484-48e6-adf7-b7daa3f05ecb",
   "metadata": {},
   "outputs": [
    {
     "data": {
      "text/plain": [
       "0.9589157234143065"
      ]
     },
     "execution_count": 148,
     "metadata": {},
     "output_type": "execute_result"
    }
   ],
   "source": [
    "np.sin(360)"
   ]
  },
  {
   "cell_type": "code",
   "execution_count": 159,
   "id": "7e19f22b-59a2-46f1-8cf1-6add7e268b4e",
   "metadata": {},
   "outputs": [
    {
     "data": {
      "text/plain": [
       "-0.5984600690578582"
      ]
     },
     "execution_count": 159,
     "metadata": {},
     "output_type": "execute_result"
    }
   ],
   "source": [
    "np.cos(180)"
   ]
  },
  {
   "cell_type": "code",
   "execution_count": 160,
   "id": "6a0eadf9-5f8f-47f8-a882-72752542d7b8",
   "metadata": {},
   "outputs": [
    {
     "data": {
      "text/plain": [
       "0.7131230097859091"
      ]
     },
     "execution_count": 160,
     "metadata": {},
     "output_type": "execute_result"
    }
   ],
   "source": [
    "np.tan(120)"
   ]
  },
  {
   "cell_type": "code",
   "execution_count": 161,
   "id": "7d4e5a2e-674f-4cdb-a695-51188fef2364",
   "metadata": {},
   "outputs": [],
   "source": [
    "v = np.array([1,2,3])"
   ]
  },
  {
   "cell_type": "code",
   "execution_count": 162,
   "id": "43396a1a-4505-403c-bb5d-ae15dd60eda3",
   "metadata": {},
   "outputs": [
    {
     "data": {
      "text/plain": [
       "array([0.        , 0.69314718, 1.09861229])"
      ]
     },
     "execution_count": 162,
     "metadata": {},
     "output_type": "execute_result"
    }
   ],
   "source": [
    "np.log(v)"
   ]
  },
  {
   "cell_type": "code",
   "execution_count": 163,
   "id": "23dafe22-d395-4101-8416-3c9780d3356e",
   "metadata": {},
   "outputs": [
    {
     "data": {
      "text/plain": [
       "array([0.       , 1.       , 1.5849625])"
      ]
     },
     "execution_count": 163,
     "metadata": {},
     "output_type": "execute_result"
    }
   ],
   "source": [
    "np.log2(v)"
   ]
  },
  {
   "cell_type": "code",
   "execution_count": 164,
   "id": "d07b9d65-00a5-4ef7-a035-05d6a35dd051",
   "metadata": {},
   "outputs": [
    {
     "data": {
      "text/plain": [
       "array([0.        , 0.30103   , 0.47712125])"
      ]
     },
     "execution_count": 164,
     "metadata": {},
     "output_type": "execute_result"
    }
   ],
   "source": [
    "np.log10(v)"
   ]
  },
  {
   "cell_type": "code",
   "execution_count": 165,
   "id": "db3f18fc-a15c-4bdc-ad64-b014d55e328c",
   "metadata": {
    "collapsed": true,
    "jupyter": {
     "outputs_hidden": true
    },
    "tags": []
   },
   "outputs": [
    {
     "data": {
      "text/plain": [
       "\u001b[1;31mType:\u001b[0m        module\n",
       "\u001b[1;31mString form:\u001b[0m <module 'numpy' from 'C:\\\\anaconda\\\\lib\\\\site-packages\\\\numpy\\\\__init__.py'>\n",
       "\u001b[1;31mFile:\u001b[0m        c:\\anaconda\\lib\\site-packages\\numpy\\__init__.py\n",
       "\u001b[1;31mDocstring:\u001b[0m  \n",
       "NumPy\n",
       "=====\n",
       "\n",
       "Provides\n",
       "  1. An array object of arbitrary homogeneous items\n",
       "  2. Fast mathematical operations over arrays\n",
       "  3. Linear Algebra, Fourier Transforms, Random Number Generation\n",
       "\n",
       "How to use the documentation\n",
       "----------------------------\n",
       "Documentation is available in two forms: docstrings provided\n",
       "with the code, and a loose standing reference guide, available from\n",
       "`the NumPy homepage <https://www.scipy.org>`_.\n",
       "\n",
       "We recommend exploring the docstrings using\n",
       "`IPython <https://ipython.org>`_, an advanced Python shell with\n",
       "TAB-completion and introspection capabilities.  See below for further\n",
       "instructions.\n",
       "\n",
       "The docstring examples assume that `numpy` has been imported as `np`::\n",
       "\n",
       "  >>> import numpy as np\n",
       "\n",
       "Code snippets are indicated by three greater-than signs::\n",
       "\n",
       "  >>> x = 42\n",
       "  >>> x = x + 1\n",
       "\n",
       "Use the built-in ``help`` function to view a function's docstring::\n",
       "\n",
       "  >>> help(np.sort)\n",
       "  ... # doctest: +SKIP\n",
       "\n",
       "For some objects, ``np.info(obj)`` may provide additional help.  This is\n",
       "particularly true if you see the line \"Help on ufunc object:\" at the top\n",
       "of the help() page.  Ufuncs are implemented in C, not Python, for speed.\n",
       "The native Python help() does not know how to view their help, but our\n",
       "np.info() function does.\n",
       "\n",
       "To search for documents containing a keyword, do::\n",
       "\n",
       "  >>> np.lookfor('keyword')\n",
       "  ... # doctest: +SKIP\n",
       "\n",
       "General-purpose documents like a glossary and help on the basic concepts\n",
       "of numpy are available under the ``doc`` sub-module::\n",
       "\n",
       "  >>> from numpy import doc\n",
       "  >>> help(doc)\n",
       "  ... # doctest: +SKIP\n",
       "\n",
       "Available subpackages\n",
       "---------------------\n",
       "doc\n",
       "    Topical documentation on broadcasting, indexing, etc.\n",
       "lib\n",
       "    Basic functions used by several sub-packages.\n",
       "random\n",
       "    Core Random Tools\n",
       "linalg\n",
       "    Core Linear Algebra Tools\n",
       "fft\n",
       "    Core FFT routines\n",
       "polynomial\n",
       "    Polynomial tools\n",
       "testing\n",
       "    NumPy testing tools\n",
       "f2py\n",
       "    Fortran to Python Interface Generator.\n",
       "distutils\n",
       "    Enhancements to distutils with support for\n",
       "    Fortran compilers support and more.\n",
       "\n",
       "Utilities\n",
       "---------\n",
       "test\n",
       "    Run numpy unittests\n",
       "show_config\n",
       "    Show numpy build configuration\n",
       "dual\n",
       "    Overwrite certain functions with high-performance SciPy tools.\n",
       "    Note: `numpy.dual` is deprecated.  Use the functions from NumPy or Scipy\n",
       "    directly instead of importing them from `numpy.dual`.\n",
       "matlib\n",
       "    Make everything matrices.\n",
       "__version__\n",
       "    NumPy version string\n",
       "\n",
       "Viewing documentation using IPython\n",
       "-----------------------------------\n",
       "Start IPython with the NumPy profile (``ipython -p numpy``), which will\n",
       "import `numpy` under the alias `np`.  Then, use the ``cpaste`` command to\n",
       "paste examples into the shell.  To see which functions are available in\n",
       "`numpy`, type ``np.<TAB>`` (where ``<TAB>`` refers to the TAB key), or use\n",
       "``np.*cos*?<ENTER>`` (where ``<ENTER>`` refers to the ENTER key) to narrow\n",
       "down the list.  To view the docstring for a function, use\n",
       "``np.cos?<ENTER>`` (to view the docstring) and ``np.cos??<ENTER>`` (to view\n",
       "the source code).\n",
       "\n",
       "Copies vs. in-place operation\n",
       "-----------------------------\n",
       "Most of the functions in `numpy` return a copy of the array argument\n",
       "(e.g., `np.sort`).  In-place versions of these functions are often\n",
       "available as array methods, i.e. ``x = np.array([1,2,3]); x.sort()``.\n",
       "Exceptions to this rule are documented.\n"
      ]
     },
     "metadata": {},
     "output_type": "display_data"
    }
   ],
   "source": [
    "?np"
   ]
  },
  {
   "cell_type": "code",
   "execution_count": 166,
   "id": "57c7919a-ee36-4417-9c73-548e67a83026",
   "metadata": {},
   "outputs": [],
   "source": [
    "#cheatsheet      aranilan kavramin sonuna yazilip google da aratilirsa daha derli toplu dokuman elde edilir\n"
   ]
  },
  {
   "cell_type": "markdown",
   "id": "70b0a5d2-1134-4453-9894-f60f6fa038c5",
   "metadata": {
    "tags": []
   },
   "source": [
    "# İstatistiksel Hesaplamalar"
   ]
  },
  {
   "cell_type": "code",
   "execution_count": null,
   "id": "5410dd25-9793-4144-a42f-43d7f1fe5f19",
   "metadata": {},
   "outputs": [],
   "source": [
    "np.mean(arr,axis=0) | Returns mean along specific axis \n",
    "arr.sum() | Returns sum of arr \n",
    "arr.min() | Returns minimum value of arr \n",
    "arr.max(axis=0) | Returns maximum value of specific axis \n",
    "np.var(arr) | Returns the variance of array \n",
    "np.std(arr,axis=1) | Returns the standard deviation of specific axis \n",
    "arr.corrcoef() | Returns correlation coefficient of array\n"
   ]
  },
  {
   "cell_type": "code",
   "execution_count": 167,
   "id": "34a1c6a6-8485-4605-ae43-7ea8dd707afb",
   "metadata": {},
   "outputs": [
    {
     "data": {
      "text/plain": [
       "array([1, 2, 3])"
      ]
     },
     "execution_count": 167,
     "metadata": {},
     "output_type": "execute_result"
    }
   ],
   "source": [
    "v"
   ]
  },
  {
   "cell_type": "code",
   "execution_count": 168,
   "id": "35a5f2fc-9b95-46b9-b634-15c171f871e9",
   "metadata": {},
   "outputs": [
    {
     "data": {
      "text/plain": [
       "2.0"
      ]
     },
     "execution_count": 168,
     "metadata": {},
     "output_type": "execute_result"
    }
   ],
   "source": [
    "np.mean(v, axis=0) "
   ]
  },
  {
   "cell_type": "code",
   "execution_count": 169,
   "id": "506e6444-2465-456e-ba51-2d14f6537b53",
   "metadata": {},
   "outputs": [
    {
     "data": {
      "text/plain": [
       "6"
      ]
     },
     "execution_count": 169,
     "metadata": {},
     "output_type": "execute_result"
    }
   ],
   "source": [
    "v.sum()"
   ]
  },
  {
   "cell_type": "code",
   "execution_count": 170,
   "id": "2a59aa3b-cb4e-4633-b1fc-5105b796a6b9",
   "metadata": {},
   "outputs": [
    {
     "data": {
      "text/plain": [
       "1"
      ]
     },
     "execution_count": 170,
     "metadata": {},
     "output_type": "execute_result"
    }
   ],
   "source": [
    "v.min()"
   ]
  },
  {
   "cell_type": "code",
   "execution_count": 171,
   "id": "8bc18b32-4493-40dd-bb6a-e6beff94664f",
   "metadata": {},
   "outputs": [
    {
     "data": {
      "text/plain": [
       "3"
      ]
     },
     "execution_count": 171,
     "metadata": {},
     "output_type": "execute_result"
    }
   ],
   "source": [
    "v.max(axis=0)"
   ]
  },
  {
   "cell_type": "code",
   "execution_count": 172,
   "id": "bf51c0ab-be86-42c1-94f6-b0f04f38467c",
   "metadata": {},
   "outputs": [
    {
     "data": {
      "text/plain": [
       "0.6666666666666666"
      ]
     },
     "execution_count": 172,
     "metadata": {},
     "output_type": "execute_result"
    }
   ],
   "source": [
    "np.var(v)"
   ]
  },
  {
   "cell_type": "code",
   "execution_count": 175,
   "id": "f511ad77-a984-4abc-98cc-3c90911b7733",
   "metadata": {},
   "outputs": [
    {
     "data": {
      "text/plain": [
       "0.816496580927726"
      ]
     },
     "execution_count": 175,
     "metadata": {},
     "output_type": "execute_result"
    }
   ],
   "source": [
    "np.std(v, axis=0)"
   ]
  },
  {
   "cell_type": "markdown",
   "id": "feae6431-8f69-4c45-82c6-3b290538034d",
   "metadata": {},
   "source": [
    "# NumPy ile iki Bilinmeyenli Denklem Çözümü"
   ]
  },
  {
   "cell_type": "code",
   "execution_count": 176,
   "id": "5e52fe9d-a095-47b1-88ad-718ef9d23d3d",
   "metadata": {},
   "outputs": [],
   "source": [
    "import numpy as np"
   ]
  },
  {
   "cell_type": "markdown",
   "id": "61795ed2-4ff0-47ae-943e-16b99686aeb5",
   "metadata": {},
   "source": [
    "##### 5*x0 + x1 = 12\n",
    "##### x0 + 3 *x1 = 10 "
   ]
  },
  {
   "cell_type": "code",
   "execution_count": 181,
   "id": "7d4272d8-b8e9-48cf-a117-2162ecf70a94",
   "metadata": {},
   "outputs": [],
   "source": [
    "a = np.array([[5,1], [1,3]]) # denklemlerin katsayilari bir vektore yazilir\n",
    "b = np.array([12,10]) # denklem sonuclarinin yer aldigi diger vektor"
   ]
  },
  {
   "cell_type": "code",
   "execution_count": 182,
   "id": "4d5b32d0-bf03-4a1f-9962-e67a7279cde8",
   "metadata": {},
   "outputs": [
    {
     "data": {
      "text/plain": [
       "array([[5, 1],\n",
       "       [1, 3]])"
      ]
     },
     "execution_count": 182,
     "metadata": {},
     "output_type": "execute_result"
    }
   ],
   "source": [
    "a"
   ]
  },
  {
   "cell_type": "code",
   "execution_count": 183,
   "id": "a8edfdbb-6e4e-47a5-b21b-cd1a6d89af49",
   "metadata": {},
   "outputs": [
    {
     "data": {
      "text/plain": [
       "array([12, 10])"
      ]
     },
     "execution_count": 183,
     "metadata": {},
     "output_type": "execute_result"
    }
   ],
   "source": [
    "b"
   ]
  },
  {
   "cell_type": "code",
   "execution_count": 186,
   "id": "c6d81475-25c3-49fd-b474-f29bfbd3a9fc",
   "metadata": {},
   "outputs": [],
   "source": [
    "x = np.linalg.solve(a,b) #birinci ve ikinci arguman arasinda olusacak hesaplama neticesindeki denklem katsayilarini hesapla"
   ]
  },
  {
   "cell_type": "code",
   "execution_count": 187,
   "id": "e47a99c9-1832-47c6-8047-d1c11cb8fa82",
   "metadata": {},
   "outputs": [
    {
     "data": {
      "text/plain": [
       "array([1.85714286, 2.71428571])"
      ]
     },
     "execution_count": 187,
     "metadata": {},
     "output_type": "execute_result"
    }
   ],
   "source": [
    "x"
   ]
  },
  {
   "cell_type": "code",
   "execution_count": 1,
   "id": "2b3ae37e-7d71-411d-8de8-b760416026f7",
   "metadata": {},
   "outputs": [
    {
     "data": {
      "text/plain": [
       "3"
      ]
     },
     "execution_count": 1,
     "metadata": {},
     "output_type": "execute_result"
    }
   ],
   "source": [
    "import numpy as np\n",
    "v = np.array([7, 3, 4, 7, 0, 9, 3, 2, 9, 2])\n",
    "v[-4]"
   ]
  },
  {
   "cell_type": "markdown",
   "id": "d755b3f6-f43b-4581-a255-3e10895988f0",
   "metadata": {},
   "source": [
    "# Pandas Serisi Oluşturmak"
   ]
  },
  {
   "cell_type": "code",
   "execution_count": 3,
   "id": "64e4ee3a-5451-4089-a36b-c67b4f013d66",
   "metadata": {},
   "outputs": [],
   "source": [
    "import pandas as pd"
   ]
  },
  {
   "cell_type": "code",
   "execution_count": 4,
   "id": "af48c50f-7935-4003-bcd3-37f82ce46420",
   "metadata": {},
   "outputs": [],
   "source": [
    "seri = pd.Series([13,29,83,4,5])"
   ]
  },
  {
   "cell_type": "code",
   "execution_count": 5,
   "id": "d1432b46-8d19-4d28-83c5-db676b2f6754",
   "metadata": {},
   "outputs": [
    {
     "data": {
      "text/plain": [
       "pandas.core.series.Series"
      ]
     },
     "execution_count": 5,
     "metadata": {},
     "output_type": "execute_result"
    }
   ],
   "source": [
    "type(seri)"
   ]
  },
  {
   "cell_type": "code",
   "execution_count": 6,
   "id": "a3dd11e3-2e80-420b-9d7b-0702aa4b0af1",
   "metadata": {},
   "outputs": [
    {
     "data": {
      "text/plain": [
       "[RangeIndex(start=0, stop=5, step=1)]"
      ]
     },
     "execution_count": 6,
     "metadata": {},
     "output_type": "execute_result"
    }
   ],
   "source": [
    "seri.axes  # bu serinin index bilgilerine ulasabiliriz"
   ]
  },
  {
   "cell_type": "code",
   "execution_count": 7,
   "id": "33fee1e2-81aa-4a3f-970c-2530e601ebd0",
   "metadata": {},
   "outputs": [
    {
     "data": {
      "text/plain": [
       "dtype('int64')"
      ]
     },
     "execution_count": 7,
     "metadata": {},
     "output_type": "execute_result"
    }
   ],
   "source": [
    "seri.dtype # seride ki degerler ile ilgili bilgi almak icin"
   ]
  },
  {
   "cell_type": "code",
   "execution_count": 8,
   "id": "2481a88d-b938-4389-9d79-bc2cea59d519",
   "metadata": {},
   "outputs": [
    {
     "data": {
      "text/plain": [
       "5"
      ]
     },
     "execution_count": 8,
     "metadata": {},
     "output_type": "execute_result"
    }
   ],
   "source": [
    "seri.size #seri hakkındaki eleman sayısını verir"
   ]
  },
  {
   "cell_type": "code",
   "execution_count": 9,
   "id": "cc4fb80f-1ad2-4b9c-a4ce-d26a2bfe671f",
   "metadata": {},
   "outputs": [
    {
     "data": {
      "text/plain": [
       "1"
      ]
     },
     "execution_count": 9,
     "metadata": {},
     "output_type": "execute_result"
    }
   ],
   "source": [
    "seri.ndim #seri hakkındaki boyut hakknda bilgi verir , kaç boyutlu olduğu bilgisini verir"
   ]
  },
  {
   "cell_type": "code",
   "execution_count": 10,
   "id": "b37cd799-b232-43cf-8e85-f97ceaa56716",
   "metadata": {},
   "outputs": [
    {
     "data": {
      "text/plain": [
       "array([13, 29, 83,  4,  5], dtype=int64)"
      ]
     },
     "execution_count": 10,
     "metadata": {},
     "output_type": "execute_result"
    }
   ],
   "source": [
    "seri.values  # bir numpy arayi seklinde erismek istersem , yani bir vektor erisim icin olarak VALUES kavrami kullanilir"
   ]
  },
  {
   "cell_type": "code",
   "execution_count": 11,
   "id": "1c0be80c-e1ce-49c2-b7cb-b6b1399fa730",
   "metadata": {},
   "outputs": [
    {
     "data": {
      "text/plain": [
       "0    13\n",
       "1    29\n",
       "2    83\n",
       "3     4\n",
       "4     5\n",
       "dtype: int64"
      ]
     },
     "execution_count": 11,
     "metadata": {},
     "output_type": "execute_result"
    }
   ],
   "source": [
    "seri.head() # serinin tüm argümanlarina bastan erismek icin kullanilir"
   ]
  },
  {
   "cell_type": "code",
   "execution_count": 12,
   "id": "a69ac2fe-7322-4497-af7b-ef4319cb723e",
   "metadata": {},
   "outputs": [
    {
     "data": {
      "text/plain": [
       "0    13\n",
       "1    29\n",
       "2    83\n",
       "dtype: int64"
      ]
     },
     "execution_count": 12,
     "metadata": {},
     "output_type": "execute_result"
    }
   ],
   "source": [
    "seri.head(3) # serinin ilgili argümanlarina erismek icin kullanilir, ilk uc arguman"
   ]
  },
  {
   "cell_type": "code",
   "execution_count": 14,
   "id": "e9a8da8e-67b5-4a29-a1b7-86e863aaea98",
   "metadata": {},
   "outputs": [
    {
     "data": {
      "text/plain": [
       "0    13\n",
       "1    29\n",
       "2    83\n",
       "3     4\n",
       "4     5\n",
       "dtype: int64"
      ]
     },
     "execution_count": 14,
     "metadata": {},
     "output_type": "execute_result"
    }
   ],
   "source": [
    "seri.tail() # serinin tüm argümanlarina sondan erismek icin kullanilir"
   ]
  },
  {
   "cell_type": "code",
   "execution_count": 16,
   "id": "c885d945-aef0-4e93-b59b-72114aa02ae1",
   "metadata": {},
   "outputs": [
    {
     "data": {
      "text/plain": [
       "3    4\n",
       "4    5\n",
       "dtype: int64"
      ]
     },
     "execution_count": 16,
     "metadata": {},
     "output_type": "execute_result"
    }
   ],
   "source": [
    "seri.tail(2) # serinin ilgili argümanlarina sondan erismek icin kullanilir, son iki eleman"
   ]
  },
  {
   "cell_type": "markdown",
   "id": "d48204b7-836c-4c4b-aa44-42c1156e8ed7",
   "metadata": {},
   "source": [
    "# Pandas Serisi Oluşturmak"
   ]
  },
  {
   "cell_type": "code",
   "execution_count": 6,
   "id": "692e20e3-d6f6-4906-8938-25004fe20242",
   "metadata": {},
   "outputs": [],
   "source": [
    "import pandas as pd"
   ]
  },
  {
   "cell_type": "code",
   "execution_count": 7,
   "id": "fd2eec93-a1e8-4c57-90e3-d3fcc15496a1",
   "metadata": {},
   "outputs": [
    {
     "data": {
      "text/plain": [
       "0    10\n",
       "1    88\n",
       "2     3\n",
       "3     4\n",
       "4     5\n",
       "dtype: int64"
      ]
     },
     "execution_count": 7,
     "metadata": {},
     "output_type": "execute_result"
    }
   ],
   "source": [
    "pd.Series([10,88,3,4,5])"
   ]
  },
  {
   "cell_type": "code",
   "execution_count": null,
   "id": "f01cfdfe-815e-4919-9eef-afd0fa8b8ead",
   "metadata": {},
   "outputs": [],
   "source": [
    "#index isimlendirmesi"
   ]
  },
  {
   "cell_type": "code",
   "execution_count": 10,
   "id": "55cd75a2-8e01-4338-8a52-aa5eb1f723ec",
   "metadata": {},
   "outputs": [],
   "source": [
    "seri = pd.Series([10,88,3,4,5])"
   ]
  },
  {
   "cell_type": "code",
   "execution_count": 11,
   "id": "4d3d8782-2e8c-42e2-b3df-9c34c4931db4",
   "metadata": {},
   "outputs": [
    {
     "data": {
      "text/plain": [
       "pandas.core.series.Series"
      ]
     },
     "execution_count": 11,
     "metadata": {},
     "output_type": "execute_result"
    }
   ],
   "source": [
    "type(seri)"
   ]
  },
  {
   "cell_type": "code",
   "execution_count": 14,
   "id": "a25d078f-b0b4-4c2d-a7ce-29eb072976cd",
   "metadata": {},
   "outputs": [
    {
     "data": {
      "text/plain": [
       "0     99\n",
       "1     22\n",
       "2    332\n",
       "3     94\n",
       "4      5\n",
       "dtype: int64"
      ]
     },
     "execution_count": 14,
     "metadata": {},
     "output_type": "execute_result"
    }
   ],
   "source": [
    "pd.Series([99,22,332,94,5]) # varsayılan indexleme, sıfırdan başlar"
   ]
  },
  {
   "cell_type": "code",
   "execution_count": 15,
   "id": "6cb4df38-48d2-411a-bb07-a631d9fd2719",
   "metadata": {},
   "outputs": [
    {
     "data": {
      "text/plain": [
       "2     99\n",
       "3     22\n",
       "4    332\n",
       "5     94\n",
       "6      5\n",
       "dtype: int64"
      ]
     },
     "execution_count": 15,
     "metadata": {},
     "output_type": "execute_result"
    }
   ],
   "source": [
    "pd.Series([99,22,332,94,5], index = [2,3,4,5,6]) # indexlemeyi kendimizde yapabliriz"
   ]
  },
  {
   "cell_type": "code",
   "execution_count": 19,
   "id": "dda19a01-4a29-4fa5-827e-a4ed99c900bf",
   "metadata": {},
   "outputs": [],
   "source": [
    "seri = pd.Series([99,22,332,94,5], index = [\"a\",\"b\",\"c\",\"d\",\"e\"]) # indexlemeyi kendimizde yapabliriz"
   ]
  },
  {
   "cell_type": "code",
   "execution_count": 20,
   "id": "4f936670-0ad0-46bb-963c-c218a2c10ec6",
   "metadata": {},
   "outputs": [
    {
     "data": {
      "text/plain": [
       "99"
      ]
     },
     "execution_count": 20,
     "metadata": {},
     "output_type": "execute_result"
    }
   ],
   "source": [
    "seri[\"a\"]"
   ]
  },
  {
   "cell_type": "code",
   "execution_count": 21,
   "id": "acd4dbc6-5786-4292-a507-ccb3c7b6cbfc",
   "metadata": {},
   "outputs": [
    {
     "data": {
      "text/plain": [
       "a     99\n",
       "b     22\n",
       "c    332\n",
       "dtype: int64"
      ]
     },
     "execution_count": 21,
     "metadata": {},
     "output_type": "execute_result"
    }
   ],
   "source": [
    "seri[\"a\":\"c\"]"
   ]
  },
  {
   "cell_type": "code",
   "execution_count": 22,
   "id": "a3fba451-d391-40a8-94dd-ced81f67628d",
   "metadata": {},
   "outputs": [],
   "source": [
    "#sozluk üzerinden liste oluşturmak"
   ]
  },
  {
   "cell_type": "code",
   "execution_count": 23,
   "id": "314e49fd-263d-4bd3-aaa8-33821cfac5ba",
   "metadata": {},
   "outputs": [],
   "source": [
    "sozluk = {\"reg\":10, \"log\":11, \"cart\":12}"
   ]
  },
  {
   "cell_type": "code",
   "execution_count": 24,
   "id": "c60e1160-45bf-423e-9667-b4c6660cff89",
   "metadata": {},
   "outputs": [],
   "source": [
    "seri = pd.Series(sozluk)"
   ]
  },
  {
   "cell_type": "code",
   "execution_count": 25,
   "id": "d8903a28-2b24-4c2e-a021-64d244a6f36a",
   "metadata": {},
   "outputs": [
    {
     "data": {
      "text/plain": [
       "reg     10\n",
       "log     11\n",
       "cart    12\n",
       "dtype: int64"
      ]
     },
     "execution_count": 25,
     "metadata": {},
     "output_type": "execute_result"
    }
   ],
   "source": [
    "seri"
   ]
  },
  {
   "cell_type": "code",
   "execution_count": null,
   "id": "f34c8693-c4e4-4bc9-bb4e-13c501cd71af",
   "metadata": {},
   "outputs": [],
   "source": []
  }
 ],
 "metadata": {
  "kernelspec": {
   "display_name": "Python 3 (ipykernel)",
   "language": "python",
   "name": "python3"
  },
  "language_info": {
   "codemirror_mode": {
    "name": "ipython",
    "version": 3
   },
   "file_extension": ".py",
   "mimetype": "text/x-python",
   "name": "python",
   "nbconvert_exporter": "python",
   "pygments_lexer": "ipython3",
   "version": "3.9.13"
  }
 },
 "nbformat": 4,
 "nbformat_minor": 5
}
